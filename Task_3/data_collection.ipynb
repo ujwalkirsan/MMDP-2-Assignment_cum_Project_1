{
 "cells": [
  {
   "cell_type": "code",
   "execution_count": 2,
   "metadata": {},
   "outputs": [
    {
     "name": "stdout",
     "output_type": "stream",
     "text": [
      "Defaulting to user installation because normal site-packages is not writeable\n",
      "Collecting cairosvg\n",
      "  Downloading CairoSVG-2.7.1-py3-none-any.whl.metadata (2.7 kB)\n",
      "Collecting cairocffi (from cairosvg)\n",
      "  Downloading cairocffi-1.7.1-py3-none-any.whl.metadata (3.3 kB)\n",
      "Collecting cssselect2 (from cairosvg)\n",
      "  Downloading cssselect2-0.8.0-py3-none-any.whl.metadata (2.9 kB)\n",
      "Collecting defusedxml (from cairosvg)\n",
      "  Downloading defusedxml-0.7.1-py2.py3-none-any.whl.metadata (32 kB)\n",
      "Requirement already satisfied: pillow in c:\\users\\ujwal\\appdata\\roaming\\python\\python313\\site-packages (from cairosvg) (11.1.0)\n",
      "Collecting tinycss2 (from cairosvg)\n",
      "  Downloading tinycss2-1.4.0-py3-none-any.whl.metadata (3.0 kB)\n",
      "Requirement already satisfied: cffi>=1.1.0 in c:\\users\\ujwal\\appdata\\roaming\\python\\python313\\site-packages (from cairocffi->cairosvg) (1.17.1)\n",
      "Collecting webencodings (from cssselect2->cairosvg)\n",
      "  Downloading webencodings-0.5.1-py2.py3-none-any.whl.metadata (2.1 kB)\n",
      "Requirement already satisfied: pycparser in c:\\users\\ujwal\\appdata\\roaming\\python\\python313\\site-packages (from cffi>=1.1.0->cairocffi->cairosvg) (2.22)\n",
      "Downloading CairoSVG-2.7.1-py3-none-any.whl (43 kB)\n",
      "Downloading cairocffi-1.7.1-py3-none-any.whl (75 kB)\n",
      "Downloading cssselect2-0.8.0-py3-none-any.whl (15 kB)\n",
      "Downloading defusedxml-0.7.1-py2.py3-none-any.whl (25 kB)\n",
      "Downloading tinycss2-1.4.0-py3-none-any.whl (26 kB)\n",
      "Downloading webencodings-0.5.1-py2.py3-none-any.whl (11 kB)\n",
      "Installing collected packages: webencodings, tinycss2, defusedxml, cssselect2, cairocffi, cairosvg\n",
      "Successfully installed cairocffi-1.7.1 cairosvg-2.7.1 cssselect2-0.8.0 defusedxml-0.7.1 tinycss2-1.4.0 webencodings-0.5.1\n"
     ]
    },
    {
     "name": "stderr",
     "output_type": "stream",
     "text": [
      "\n",
      "[notice] A new release of pip is available: 24.3.1 -> 25.0.1\n",
      "[notice] To update, run: python.exe -m pip install --upgrade pip\n"
     ]
    }
   ],
   "source": [
    "!pip install cairosvg"
   ]
  },
  {
   "cell_type": "code",
   "execution_count": 10,
   "metadata": {},
   "outputs": [
    {
     "name": "stderr",
     "output_type": "stream",
     "text": [
      "Downloading flags:   1%|          | 1/100 [00:00<00:53,  1.87it/s]"
     ]
    },
    {
     "name": "stdout",
     "output_type": "stream",
     "text": [
      "SUCCESS: Downloaded flag for ad\n"
     ]
    },
    {
     "name": "stderr",
     "output_type": "stream",
     "text": [
      "Downloading flags:   2%|▏         | 2/100 [00:00<00:45,  2.18it/s]"
     ]
    },
    {
     "name": "stdout",
     "output_type": "stream",
     "text": [
      "SUCCESS: Downloaded flag for ae\n"
     ]
    },
    {
     "name": "stderr",
     "output_type": "stream",
     "text": [
      "Downloading flags:   3%|▎         | 3/100 [00:01<00:48,  2.01it/s]"
     ]
    },
    {
     "name": "stdout",
     "output_type": "stream",
     "text": [
      "SUCCESS: Downloaded flag for af\n"
     ]
    },
    {
     "name": "stderr",
     "output_type": "stream",
     "text": [
      "Downloading flags:   4%|▍         | 4/100 [00:01<00:44,  2.15it/s]"
     ]
    },
    {
     "name": "stdout",
     "output_type": "stream",
     "text": [
      "SUCCESS: Downloaded flag for ag\n"
     ]
    },
    {
     "name": "stderr",
     "output_type": "stream",
     "text": [
      "Downloading flags:   5%|▌         | 5/100 [00:02<00:42,  2.26it/s]"
     ]
    },
    {
     "name": "stdout",
     "output_type": "stream",
     "text": [
      "SUCCESS: Downloaded flag for ai\n"
     ]
    },
    {
     "name": "stderr",
     "output_type": "stream",
     "text": [
      "Downloading flags:   6%|▌         | 6/100 [00:02<00:41,  2.26it/s]"
     ]
    },
    {
     "name": "stdout",
     "output_type": "stream",
     "text": [
      "SUCCESS: Downloaded flag for al\n"
     ]
    },
    {
     "name": "stderr",
     "output_type": "stream",
     "text": [
      "Downloading flags:   7%|▋         | 7/100 [00:03<00:40,  2.29it/s]"
     ]
    },
    {
     "name": "stdout",
     "output_type": "stream",
     "text": [
      "SUCCESS: Downloaded flag for am\n"
     ]
    },
    {
     "name": "stderr",
     "output_type": "stream",
     "text": [
      "Downloading flags:   8%|▊         | 8/100 [00:03<00:40,  2.30it/s]"
     ]
    },
    {
     "name": "stdout",
     "output_type": "stream",
     "text": [
      "SUCCESS: Downloaded flag for ao\n"
     ]
    },
    {
     "name": "stderr",
     "output_type": "stream",
     "text": [
      "Downloading flags:   9%|▉         | 9/100 [00:04<00:39,  2.33it/s]"
     ]
    },
    {
     "name": "stdout",
     "output_type": "stream",
     "text": [
      "SUCCESS: Downloaded flag for ar\n"
     ]
    },
    {
     "name": "stderr",
     "output_type": "stream",
     "text": [
      "Downloading flags:  10%|█         | 10/100 [00:04<00:38,  2.34it/s]"
     ]
    },
    {
     "name": "stdout",
     "output_type": "stream",
     "text": [
      "SUCCESS: Downloaded flag for as\n"
     ]
    },
    {
     "name": "stderr",
     "output_type": "stream",
     "text": [
      "Downloading flags:  11%|█         | 11/100 [00:04<00:37,  2.35it/s]"
     ]
    },
    {
     "name": "stdout",
     "output_type": "stream",
     "text": [
      "SUCCESS: Downloaded flag for at\n"
     ]
    },
    {
     "name": "stderr",
     "output_type": "stream",
     "text": [
      "Downloading flags:  12%|█▏        | 12/100 [00:05<00:37,  2.32it/s]"
     ]
    },
    {
     "name": "stdout",
     "output_type": "stream",
     "text": [
      "SUCCESS: Downloaded flag for au\n"
     ]
    },
    {
     "name": "stderr",
     "output_type": "stream",
     "text": [
      "Downloading flags:  13%|█▎        | 13/100 [00:05<00:37,  2.35it/s]"
     ]
    },
    {
     "name": "stdout",
     "output_type": "stream",
     "text": [
      "SUCCESS: Downloaded flag for aw\n"
     ]
    },
    {
     "name": "stderr",
     "output_type": "stream",
     "text": [
      "Downloading flags:  14%|█▍        | 14/100 [00:06<00:36,  2.36it/s]"
     ]
    },
    {
     "name": "stdout",
     "output_type": "stream",
     "text": [
      "SUCCESS: Downloaded flag for ax\n"
     ]
    },
    {
     "name": "stderr",
     "output_type": "stream",
     "text": [
      "Downloading flags:  15%|█▌        | 15/100 [00:06<00:35,  2.36it/s]"
     ]
    },
    {
     "name": "stdout",
     "output_type": "stream",
     "text": [
      "SUCCESS: Downloaded flag for az\n"
     ]
    },
    {
     "name": "stderr",
     "output_type": "stream",
     "text": [
      "Downloading flags:  16%|█▌        | 16/100 [00:07<00:44,  1.87it/s]"
     ]
    },
    {
     "name": "stdout",
     "output_type": "stream",
     "text": [
      "SUCCESS: Downloaded flag for ba\n"
     ]
    },
    {
     "name": "stderr",
     "output_type": "stream",
     "text": [
      "Downloading flags:  17%|█▋        | 17/100 [00:07<00:41,  2.01it/s]"
     ]
    },
    {
     "name": "stdout",
     "output_type": "stream",
     "text": [
      "SUCCESS: Downloaded flag for bb\n"
     ]
    },
    {
     "name": "stderr",
     "output_type": "stream",
     "text": [
      "Downloading flags:  18%|█▊        | 18/100 [00:08<00:38,  2.10it/s]"
     ]
    },
    {
     "name": "stdout",
     "output_type": "stream",
     "text": [
      "SUCCESS: Downloaded flag for bd\n"
     ]
    },
    {
     "name": "stderr",
     "output_type": "stream",
     "text": [
      "Downloading flags:  19%|█▉        | 19/100 [00:08<00:36,  2.20it/s]"
     ]
    },
    {
     "name": "stdout",
     "output_type": "stream",
     "text": [
      "SUCCESS: Downloaded flag for be\n"
     ]
    },
    {
     "name": "stderr",
     "output_type": "stream",
     "text": [
      "Downloading flags:  20%|██        | 20/100 [00:09<00:35,  2.24it/s]"
     ]
    },
    {
     "name": "stdout",
     "output_type": "stream",
     "text": [
      "SUCCESS: Downloaded flag for bf\n"
     ]
    },
    {
     "name": "stderr",
     "output_type": "stream",
     "text": [
      "Downloading flags:  21%|██        | 21/100 [00:09<00:34,  2.28it/s]"
     ]
    },
    {
     "name": "stdout",
     "output_type": "stream",
     "text": [
      "SUCCESS: Downloaded flag for bg\n"
     ]
    },
    {
     "name": "stderr",
     "output_type": "stream",
     "text": [
      "Downloading flags:  22%|██▏       | 22/100 [00:09<00:33,  2.33it/s]"
     ]
    },
    {
     "name": "stdout",
     "output_type": "stream",
     "text": [
      "SUCCESS: Downloaded flag for bh\n"
     ]
    },
    {
     "name": "stderr",
     "output_type": "stream",
     "text": [
      "Downloading flags:  23%|██▎       | 23/100 [00:10<00:32,  2.35it/s]"
     ]
    },
    {
     "name": "stdout",
     "output_type": "stream",
     "text": [
      "SUCCESS: Downloaded flag for bi\n"
     ]
    },
    {
     "name": "stderr",
     "output_type": "stream",
     "text": [
      "Downloading flags:  24%|██▍       | 24/100 [00:10<00:32,  2.35it/s]"
     ]
    },
    {
     "name": "stdout",
     "output_type": "stream",
     "text": [
      "SUCCESS: Downloaded flag for bj\n"
     ]
    },
    {
     "name": "stderr",
     "output_type": "stream",
     "text": [
      "Downloading flags:  25%|██▌       | 25/100 [00:11<00:32,  2.34it/s]"
     ]
    },
    {
     "name": "stdout",
     "output_type": "stream",
     "text": [
      "SUCCESS: Downloaded flag for bl\n"
     ]
    },
    {
     "name": "stderr",
     "output_type": "stream",
     "text": [
      "Downloading flags:  26%|██▌       | 26/100 [00:11<00:32,  2.31it/s]"
     ]
    },
    {
     "name": "stdout",
     "output_type": "stream",
     "text": [
      "SUCCESS: Downloaded flag for bm\n"
     ]
    },
    {
     "name": "stderr",
     "output_type": "stream",
     "text": [
      "Downloading flags:  27%|██▋       | 27/100 [00:11<00:31,  2.33it/s]"
     ]
    },
    {
     "name": "stdout",
     "output_type": "stream",
     "text": [
      "SUCCESS: Downloaded flag for bn\n"
     ]
    },
    {
     "name": "stderr",
     "output_type": "stream",
     "text": [
      "Downloading flags:  28%|██▊       | 28/100 [00:12<00:32,  2.19it/s]"
     ]
    },
    {
     "name": "stdout",
     "output_type": "stream",
     "text": [
      "SUCCESS: Downloaded flag for bo\n"
     ]
    },
    {
     "name": "stderr",
     "output_type": "stream",
     "text": [
      "Downloading flags:  29%|██▉       | 29/100 [00:12<00:31,  2.23it/s]"
     ]
    },
    {
     "name": "stdout",
     "output_type": "stream",
     "text": [
      "SUCCESS: Downloaded flag for br\n"
     ]
    },
    {
     "name": "stderr",
     "output_type": "stream",
     "text": [
      "Downloading flags:  30%|███       | 30/100 [00:13<00:30,  2.27it/s]"
     ]
    },
    {
     "name": "stdout",
     "output_type": "stream",
     "text": [
      "SUCCESS: Downloaded flag for bs\n"
     ]
    },
    {
     "name": "stderr",
     "output_type": "stream",
     "text": [
      "Downloading flags:  31%|███       | 31/100 [00:13<00:29,  2.31it/s]"
     ]
    },
    {
     "name": "stdout",
     "output_type": "stream",
     "text": [
      "SUCCESS: Downloaded flag for bw\n"
     ]
    },
    {
     "name": "stderr",
     "output_type": "stream",
     "text": [
      "Downloading flags:  32%|███▏      | 32/100 [00:14<00:28,  2.35it/s]"
     ]
    },
    {
     "name": "stdout",
     "output_type": "stream",
     "text": [
      "SUCCESS: Downloaded flag for by\n"
     ]
    },
    {
     "name": "stderr",
     "output_type": "stream",
     "text": [
      "Downloading flags:  33%|███▎      | 33/100 [00:14<00:29,  2.24it/s]"
     ]
    },
    {
     "name": "stdout",
     "output_type": "stream",
     "text": [
      "SUCCESS: Downloaded flag for bz\n"
     ]
    },
    {
     "name": "stderr",
     "output_type": "stream",
     "text": [
      "Downloading flags:  34%|███▍      | 34/100 [00:15<00:29,  2.24it/s]"
     ]
    },
    {
     "name": "stdout",
     "output_type": "stream",
     "text": [
      "SUCCESS: Downloaded flag for ca\n"
     ]
    },
    {
     "name": "stderr",
     "output_type": "stream",
     "text": [
      "Downloading flags:  35%|███▌      | 35/100 [00:15<00:28,  2.30it/s]"
     ]
    },
    {
     "name": "stdout",
     "output_type": "stream",
     "text": [
      "SUCCESS: Downloaded flag for cd\n"
     ]
    },
    {
     "name": "stderr",
     "output_type": "stream",
     "text": [
      "Downloading flags:  36%|███▌      | 36/100 [00:15<00:27,  2.33it/s]"
     ]
    },
    {
     "name": "stdout",
     "output_type": "stream",
     "text": [
      "SUCCESS: Downloaded flag for cf\n"
     ]
    },
    {
     "name": "stderr",
     "output_type": "stream",
     "text": [
      "Downloading flags:  37%|███▋      | 37/100 [00:16<00:26,  2.36it/s]"
     ]
    },
    {
     "name": "stdout",
     "output_type": "stream",
     "text": [
      "SUCCESS: Downloaded flag for cz\n"
     ]
    },
    {
     "name": "stderr",
     "output_type": "stream",
     "text": [
      "Downloading flags:  38%|███▊      | 38/100 [00:16<00:29,  2.09it/s]"
     ]
    },
    {
     "name": "stdout",
     "output_type": "stream",
     "text": [
      "SUCCESS: Downloaded flag for de\n"
     ]
    },
    {
     "name": "stderr",
     "output_type": "stream",
     "text": [
      "Downloading flags:  39%|███▉      | 39/100 [00:17<00:27,  2.18it/s]"
     ]
    },
    {
     "name": "stdout",
     "output_type": "stream",
     "text": [
      "SUCCESS: Downloaded flag for dj\n"
     ]
    },
    {
     "name": "stderr",
     "output_type": "stream",
     "text": [
      "Downloading flags:  40%|████      | 40/100 [00:17<00:27,  2.22it/s]"
     ]
    },
    {
     "name": "stdout",
     "output_type": "stream",
     "text": [
      "SUCCESS: Downloaded flag for dk\n"
     ]
    },
    {
     "name": "stderr",
     "output_type": "stream",
     "text": [
      "Downloading flags:  41%|████      | 41/100 [00:18<00:25,  2.28it/s]"
     ]
    },
    {
     "name": "stdout",
     "output_type": "stream",
     "text": [
      "SUCCESS: Downloaded flag for dm\n"
     ]
    },
    {
     "name": "stderr",
     "output_type": "stream",
     "text": [
      "Downloading flags:  42%|████▏     | 42/100 [00:18<00:26,  2.20it/s]"
     ]
    },
    {
     "name": "stdout",
     "output_type": "stream",
     "text": [
      "SUCCESS: Downloaded flag for do\n"
     ]
    },
    {
     "name": "stderr",
     "output_type": "stream",
     "text": [
      "Downloading flags:  43%|████▎     | 43/100 [00:19<00:26,  2.14it/s]"
     ]
    },
    {
     "name": "stdout",
     "output_type": "stream",
     "text": [
      "SUCCESS: Downloaded flag for dz\n"
     ]
    },
    {
     "name": "stderr",
     "output_type": "stream",
     "text": [
      "Downloading flags:  44%|████▍     | 44/100 [00:19<00:26,  2.11it/s]"
     ]
    },
    {
     "name": "stdout",
     "output_type": "stream",
     "text": [
      "SUCCESS: Downloaded flag for ec\n"
     ]
    },
    {
     "name": "stderr",
     "output_type": "stream",
     "text": [
      "Downloading flags:  45%|████▌     | 45/100 [00:20<00:24,  2.20it/s]"
     ]
    },
    {
     "name": "stdout",
     "output_type": "stream",
     "text": [
      "SUCCESS: Downloaded flag for ee\n"
     ]
    },
    {
     "name": "stderr",
     "output_type": "stream",
     "text": [
      "Downloading flags:  46%|████▌     | 46/100 [00:20<00:24,  2.22it/s]"
     ]
    },
    {
     "name": "stdout",
     "output_type": "stream",
     "text": [
      "SUCCESS: Downloaded flag for eg\n"
     ]
    },
    {
     "name": "stderr",
     "output_type": "stream",
     "text": [
      "Downloading flags:  47%|████▋     | 47/100 [00:20<00:23,  2.26it/s]"
     ]
    },
    {
     "name": "stdout",
     "output_type": "stream",
     "text": [
      "SUCCESS: Downloaded flag for eh\n"
     ]
    },
    {
     "name": "stderr",
     "output_type": "stream",
     "text": [
      "Downloading flags:  48%|████▊     | 48/100 [00:21<00:22,  2.31it/s]"
     ]
    },
    {
     "name": "stdout",
     "output_type": "stream",
     "text": [
      "SUCCESS: Downloaded flag for er\n"
     ]
    },
    {
     "name": "stderr",
     "output_type": "stream",
     "text": [
      "Downloading flags:  49%|████▉     | 49/100 [00:21<00:21,  2.34it/s]"
     ]
    },
    {
     "name": "stdout",
     "output_type": "stream",
     "text": [
      "SUCCESS: Downloaded flag for es\n"
     ]
    },
    {
     "name": "stderr",
     "output_type": "stream",
     "text": [
      "Downloading flags:  50%|█████     | 50/100 [00:22<00:21,  2.34it/s]"
     ]
    },
    {
     "name": "stdout",
     "output_type": "stream",
     "text": [
      "SUCCESS: Downloaded flag for et\n"
     ]
    },
    {
     "name": "stderr",
     "output_type": "stream",
     "text": [
      "Downloading flags:  51%|█████     | 51/100 [00:22<00:20,  2.35it/s]"
     ]
    },
    {
     "name": "stdout",
     "output_type": "stream",
     "text": [
      "SUCCESS: Downloaded flag for eu\n"
     ]
    },
    {
     "name": "stderr",
     "output_type": "stream",
     "text": [
      "Downloading flags:  52%|█████▏    | 52/100 [00:24<00:35,  1.37it/s]"
     ]
    },
    {
     "name": "stdout",
     "output_type": "stream",
     "text": [
      "SUCCESS: Downloaded flag for fi\n"
     ]
    },
    {
     "name": "stderr",
     "output_type": "stream",
     "text": [
      "Downloading flags:  53%|█████▎    | 53/100 [00:24<00:29,  1.57it/s]"
     ]
    },
    {
     "name": "stdout",
     "output_type": "stream",
     "text": [
      "SUCCESS: Downloaded flag for fj\n"
     ]
    },
    {
     "name": "stderr",
     "output_type": "stream",
     "text": [
      "Downloading flags:  54%|█████▍    | 54/100 [00:24<00:26,  1.73it/s]"
     ]
    },
    {
     "name": "stdout",
     "output_type": "stream",
     "text": [
      "SUCCESS: Downloaded flag for fk\n"
     ]
    },
    {
     "name": "stderr",
     "output_type": "stream",
     "text": [
      "Downloading flags:  55%|█████▌    | 55/100 [00:25<00:23,  1.89it/s]"
     ]
    },
    {
     "name": "stdout",
     "output_type": "stream",
     "text": [
      "SUCCESS: Downloaded flag for fm\n"
     ]
    },
    {
     "name": "stderr",
     "output_type": "stream",
     "text": [
      "Downloading flags:  56%|█████▌    | 56/100 [00:25<00:21,  2.02it/s]"
     ]
    },
    {
     "name": "stdout",
     "output_type": "stream",
     "text": [
      "SUCCESS: Downloaded flag for fo\n"
     ]
    },
    {
     "name": "stderr",
     "output_type": "stream",
     "text": [
      "Downloading flags:  57%|█████▋    | 57/100 [00:26<00:19,  2.19it/s]"
     ]
    },
    {
     "name": "stdout",
     "output_type": "stream",
     "text": [
      "SUCCESS: Downloaded flag for fr\n"
     ]
    },
    {
     "name": "stderr",
     "output_type": "stream",
     "text": [
      "Downloading flags:  58%|█████▊    | 58/100 [00:26<00:18,  2.22it/s]"
     ]
    },
    {
     "name": "stdout",
     "output_type": "stream",
     "text": [
      "SUCCESS: Downloaded flag for ga\n"
     ]
    },
    {
     "name": "stderr",
     "output_type": "stream",
     "text": [
      "Downloading flags:  59%|█████▉    | 59/100 [00:27<00:18,  2.27it/s]"
     ]
    },
    {
     "name": "stdout",
     "output_type": "stream",
     "text": [
      "SUCCESS: Downloaded flag for gb\n"
     ]
    },
    {
     "name": "stderr",
     "output_type": "stream",
     "text": [
      "Downloading flags:  60%|██████    | 60/100 [00:27<00:17,  2.26it/s]"
     ]
    },
    {
     "name": "stdout",
     "output_type": "stream",
     "text": [
      "SUCCESS: Downloaded flag for gd\n"
     ]
    },
    {
     "name": "stderr",
     "output_type": "stream",
     "text": [
      "Downloading flags:  61%|██████    | 61/100 [00:27<00:16,  2.30it/s]"
     ]
    },
    {
     "name": "stdout",
     "output_type": "stream",
     "text": [
      "SUCCESS: Downloaded flag for ge\n"
     ]
    },
    {
     "name": "stderr",
     "output_type": "stream",
     "text": [
      "Downloading flags:  62%|██████▏   | 62/100 [00:28<00:16,  2.34it/s]"
     ]
    },
    {
     "name": "stdout",
     "output_type": "stream",
     "text": [
      "SUCCESS: Downloaded flag for gg\n"
     ]
    },
    {
     "name": "stderr",
     "output_type": "stream",
     "text": [
      "Downloading flags:  63%|██████▎   | 63/100 [00:28<00:16,  2.27it/s]"
     ]
    },
    {
     "name": "stdout",
     "output_type": "stream",
     "text": [
      "SUCCESS: Downloaded flag for gh\n"
     ]
    },
    {
     "name": "stderr",
     "output_type": "stream",
     "text": [
      "Downloading flags:  64%|██████▍   | 64/100 [00:29<00:15,  2.30it/s]"
     ]
    },
    {
     "name": "stdout",
     "output_type": "stream",
     "text": [
      "SUCCESS: Downloaded flag for gi\n"
     ]
    },
    {
     "name": "stderr",
     "output_type": "stream",
     "text": [
      "Downloading flags:  65%|██████▌   | 65/100 [00:29<00:15,  2.33it/s]"
     ]
    },
    {
     "name": "stdout",
     "output_type": "stream",
     "text": [
      "SUCCESS: Downloaded flag for gl\n"
     ]
    },
    {
     "name": "stderr",
     "output_type": "stream",
     "text": [
      "Downloading flags:  66%|██████▌   | 66/100 [00:29<00:14,  2.36it/s]"
     ]
    },
    {
     "name": "stdout",
     "output_type": "stream",
     "text": [
      "SUCCESS: Downloaded flag for gm\n"
     ]
    },
    {
     "name": "stderr",
     "output_type": "stream",
     "text": [
      "Downloading flags:  67%|██████▋   | 67/100 [00:30<00:14,  2.35it/s]"
     ]
    },
    {
     "name": "stdout",
     "output_type": "stream",
     "text": [
      "SUCCESS: Downloaded flag for gn\n"
     ]
    },
    {
     "name": "stderr",
     "output_type": "stream",
     "text": [
      "Downloading flags:  68%|██████▊   | 68/100 [00:30<00:13,  2.36it/s]"
     ]
    },
    {
     "name": "stdout",
     "output_type": "stream",
     "text": [
      "SUCCESS: Downloaded flag for gq\n"
     ]
    },
    {
     "name": "stderr",
     "output_type": "stream",
     "text": [
      "Downloading flags:  69%|██████▉   | 69/100 [00:31<00:13,  2.35it/s]"
     ]
    },
    {
     "name": "stdout",
     "output_type": "stream",
     "text": [
      "SUCCESS: Downloaded flag for gr\n"
     ]
    },
    {
     "name": "stderr",
     "output_type": "stream",
     "text": [
      "Downloading flags:  70%|███████   | 70/100 [00:31<00:12,  2.33it/s]"
     ]
    },
    {
     "name": "stdout",
     "output_type": "stream",
     "text": [
      "SUCCESS: Downloaded flag for gt\n"
     ]
    },
    {
     "name": "stderr",
     "output_type": "stream",
     "text": [
      "Downloading flags:  71%|███████   | 71/100 [00:32<00:12,  2.23it/s]"
     ]
    },
    {
     "name": "stdout",
     "output_type": "stream",
     "text": [
      "SUCCESS: Downloaded flag for gu\n"
     ]
    },
    {
     "name": "stderr",
     "output_type": "stream",
     "text": [
      "Downloading flags:  72%|███████▏  | 72/100 [00:32<00:12,  2.29it/s]"
     ]
    },
    {
     "name": "stdout",
     "output_type": "stream",
     "text": [
      "SUCCESS: Downloaded flag for gw\n"
     ]
    },
    {
     "name": "stderr",
     "output_type": "stream",
     "text": [
      "Downloading flags:  73%|███████▎  | 73/100 [00:33<00:11,  2.31it/s]"
     ]
    },
    {
     "name": "stdout",
     "output_type": "stream",
     "text": [
      "SUCCESS: Downloaded flag for gy\n"
     ]
    },
    {
     "name": "stderr",
     "output_type": "stream",
     "text": [
      "Downloading flags:  74%|███████▍  | 74/100 [00:33<00:11,  2.26it/s]"
     ]
    },
    {
     "name": "stdout",
     "output_type": "stream",
     "text": [
      "SUCCESS: Downloaded flag for id\n"
     ]
    },
    {
     "name": "stderr",
     "output_type": "stream",
     "text": [
      "Downloading flags:  75%|███████▌  | 75/100 [00:33<00:10,  2.29it/s]"
     ]
    },
    {
     "name": "stdout",
     "output_type": "stream",
     "text": [
      "SUCCESS: Downloaded flag for ie\n"
     ]
    },
    {
     "name": "stderr",
     "output_type": "stream",
     "text": [
      "Downloading flags:  76%|███████▌  | 76/100 [00:34<00:10,  2.25it/s]"
     ]
    },
    {
     "name": "stdout",
     "output_type": "stream",
     "text": [
      "SUCCESS: Downloaded flag for il\n"
     ]
    },
    {
     "name": "stderr",
     "output_type": "stream",
     "text": [
      "Downloading flags:  77%|███████▋  | 77/100 [00:34<00:10,  2.27it/s]"
     ]
    },
    {
     "name": "stdout",
     "output_type": "stream",
     "text": [
      "SUCCESS: Downloaded flag for im\n"
     ]
    },
    {
     "name": "stderr",
     "output_type": "stream",
     "text": [
      "Downloading flags:  78%|███████▊  | 78/100 [00:35<00:09,  2.31it/s]"
     ]
    },
    {
     "name": "stdout",
     "output_type": "stream",
     "text": [
      "SUCCESS: Downloaded flag for in\n"
     ]
    },
    {
     "name": "stderr",
     "output_type": "stream",
     "text": [
      "Downloading flags:  79%|███████▉  | 79/100 [00:35<00:08,  2.35it/s]"
     ]
    },
    {
     "name": "stdout",
     "output_type": "stream",
     "text": [
      "SUCCESS: Downloaded flag for iq\n"
     ]
    },
    {
     "name": "stderr",
     "output_type": "stream",
     "text": [
      "Downloading flags:  80%|████████  | 80/100 [00:36<00:08,  2.38it/s]"
     ]
    },
    {
     "name": "stdout",
     "output_type": "stream",
     "text": [
      "SUCCESS: Downloaded flag for ir\n"
     ]
    },
    {
     "name": "stderr",
     "output_type": "stream",
     "text": [
      "Downloading flags:  81%|████████  | 81/100 [00:36<00:07,  2.39it/s]"
     ]
    },
    {
     "name": "stdout",
     "output_type": "stream",
     "text": [
      "SUCCESS: Downloaded flag for is\n"
     ]
    },
    {
     "name": "stderr",
     "output_type": "stream",
     "text": [
      "Downloading flags:  82%|████████▏ | 82/100 [00:36<00:07,  2.38it/s]"
     ]
    },
    {
     "name": "stdout",
     "output_type": "stream",
     "text": [
      "SUCCESS: Downloaded flag for it\n"
     ]
    },
    {
     "name": "stderr",
     "output_type": "stream",
     "text": [
      "Downloading flags:  83%|████████▎ | 83/100 [00:37<00:07,  2.38it/s]"
     ]
    },
    {
     "name": "stdout",
     "output_type": "stream",
     "text": [
      "SUCCESS: Downloaded flag for je\n"
     ]
    },
    {
     "name": "stderr",
     "output_type": "stream",
     "text": [
      "Downloading flags:  84%|████████▍ | 84/100 [00:37<00:07,  2.19it/s]"
     ]
    },
    {
     "name": "stdout",
     "output_type": "stream",
     "text": [
      "SUCCESS: Downloaded flag for jm\n"
     ]
    },
    {
     "name": "stderr",
     "output_type": "stream",
     "text": [
      "Downloading flags:  85%|████████▌ | 85/100 [00:38<00:06,  2.22it/s]"
     ]
    },
    {
     "name": "stdout",
     "output_type": "stream",
     "text": [
      "SUCCESS: Downloaded flag for jo\n"
     ]
    },
    {
     "name": "stderr",
     "output_type": "stream",
     "text": [
      "Downloading flags:  86%|████████▌ | 86/100 [00:38<00:06,  2.26it/s]"
     ]
    },
    {
     "name": "stdout",
     "output_type": "stream",
     "text": [
      "SUCCESS: Downloaded flag for jp\n"
     ]
    },
    {
     "name": "stderr",
     "output_type": "stream",
     "text": [
      "Downloading flags:  87%|████████▋ | 87/100 [00:39<00:05,  2.32it/s]"
     ]
    },
    {
     "name": "stdout",
     "output_type": "stream",
     "text": [
      "SUCCESS: Downloaded flag for ke\n"
     ]
    },
    {
     "name": "stderr",
     "output_type": "stream",
     "text": [
      "Downloading flags:  88%|████████▊ | 88/100 [00:39<00:05,  2.36it/s]"
     ]
    },
    {
     "name": "stdout",
     "output_type": "stream",
     "text": [
      "SUCCESS: Downloaded flag for kg\n"
     ]
    },
    {
     "name": "stderr",
     "output_type": "stream",
     "text": [
      "Downloading flags:  89%|████████▉ | 89/100 [00:39<00:04,  2.38it/s]"
     ]
    },
    {
     "name": "stdout",
     "output_type": "stream",
     "text": [
      "SUCCESS: Downloaded flag for kh\n"
     ]
    },
    {
     "name": "stderr",
     "output_type": "stream",
     "text": [
      "Downloading flags:  90%|█████████ | 90/100 [00:40<00:04,  2.39it/s]"
     ]
    },
    {
     "name": "stdout",
     "output_type": "stream",
     "text": [
      "SUCCESS: Downloaded flag for ki\n"
     ]
    },
    {
     "name": "stderr",
     "output_type": "stream",
     "text": [
      "Downloading flags:  91%|█████████ | 91/100 [00:40<00:03,  2.40it/s]"
     ]
    },
    {
     "name": "stdout",
     "output_type": "stream",
     "text": [
      "SUCCESS: Downloaded flag for km\n"
     ]
    },
    {
     "name": "stderr",
     "output_type": "stream",
     "text": [
      "Downloading flags:  92%|█████████▏| 92/100 [00:41<00:03,  2.35it/s]"
     ]
    },
    {
     "name": "stdout",
     "output_type": "stream",
     "text": [
      "SUCCESS: Downloaded flag for kn\n"
     ]
    },
    {
     "name": "stderr",
     "output_type": "stream",
     "text": [
      "Downloading flags:  93%|█████████▎| 93/100 [00:41<00:02,  2.37it/s]"
     ]
    },
    {
     "name": "stdout",
     "output_type": "stream",
     "text": [
      "SUCCESS: Downloaded flag for kp\n"
     ]
    },
    {
     "name": "stderr",
     "output_type": "stream",
     "text": [
      "Downloading flags:  94%|█████████▍| 94/100 [00:42<00:02,  2.39it/s]"
     ]
    },
    {
     "name": "stdout",
     "output_type": "stream",
     "text": [
      "SUCCESS: Downloaded flag for kr\n"
     ]
    },
    {
     "name": "stderr",
     "output_type": "stream",
     "text": [
      "Downloading flags:  95%|█████████▌| 95/100 [00:42<00:02,  2.41it/s]"
     ]
    },
    {
     "name": "stdout",
     "output_type": "stream",
     "text": [
      "SUCCESS: Downloaded flag for kw\n"
     ]
    },
    {
     "name": "stderr",
     "output_type": "stream",
     "text": [
      "Downloading flags:  96%|█████████▌| 96/100 [00:42<00:01,  2.38it/s]"
     ]
    },
    {
     "name": "stdout",
     "output_type": "stream",
     "text": [
      "SUCCESS: Downloaded flag for ky\n"
     ]
    },
    {
     "name": "stderr",
     "output_type": "stream",
     "text": [
      "Downloading flags:  97%|█████████▋| 97/100 [00:43<00:01,  2.31it/s]"
     ]
    },
    {
     "name": "stdout",
     "output_type": "stream",
     "text": [
      "SUCCESS: Downloaded flag for kz\n"
     ]
    },
    {
     "name": "stderr",
     "output_type": "stream",
     "text": [
      "Downloading flags:  98%|█████████▊| 98/100 [00:43<00:00,  2.30it/s]"
     ]
    },
    {
     "name": "stdout",
     "output_type": "stream",
     "text": [
      "SUCCESS: Downloaded flag for ma\n"
     ]
    },
    {
     "name": "stderr",
     "output_type": "stream",
     "text": [
      "Downloading flags:  99%|█████████▉| 99/100 [00:44<00:00,  2.34it/s]"
     ]
    },
    {
     "name": "stdout",
     "output_type": "stream",
     "text": [
      "SUCCESS: Downloaded flag for mc\n"
     ]
    },
    {
     "name": "stderr",
     "output_type": "stream",
     "text": [
      "Downloading flags: 100%|██████████| 100/100 [00:44<00:00,  2.24it/s]"
     ]
    },
    {
     "name": "stdout",
     "output_type": "stream",
     "text": [
      "SUCCESS: Downloaded flag for md\n",
      "\n",
      "Download complete. Flags saved in: c:\\Users\\UJWAL\\Desktop\\VS Codes\\Python Codes\\MMDP2_Project_1\\Task_3\\country_flags_svg\n"
     ]
    },
    {
     "name": "stderr",
     "output_type": "stream",
     "text": [
      "\n"
     ]
    }
   ],
   "source": [
    "import os\n",
    "import requests\n",
    "from tqdm import tqdm\n",
    "\n",
    "# Directory where anthem MP3 files are stored\n",
    "anthem_directory = \"national_anthems_mp3\"\n",
    "# Directory to save SVG flag files\n",
    "svg_directory = \"country_flags_svg\"\n",
    "\n",
    "# Ensure SVG directory exists\n",
    "if not os.path.exists(svg_directory):\n",
    "    os.makedirs(svg_directory)\n",
    "\n",
    "def get_country_codes_from_mp3(directory):\n",
    "    \"\"\"Extract country codes from MP3 filenames.\"\"\"\n",
    "    if not os.path.exists(directory):\n",
    "        return []\n",
    "    return [f.split('.')[0] for f in os.listdir(directory) if f.endswith('.mp3')]\n",
    "\n",
    "def download_svg_flag(country_code, output_dir):\n",
    "    \"\"\"Download the country's SVG flag from GitHub.\"\"\"\n",
    "    url = f\"https://raw.githubusercontent.com/hampusborgos/country-flags/main/svg/{country_code}.svg\"\n",
    "    output_path = os.path.join(output_dir, f\"{country_code}.svg\")\n",
    "\n",
    "    try:\n",
    "        response = requests.get(url, stream=True, timeout=10)\n",
    "        if response.status_code == 200:\n",
    "            with open(output_path, 'wb') as file:\n",
    "                for chunk in response.iter_content(1024):\n",
    "                    file.write(chunk)\n",
    "            return True\n",
    "    except Exception:\n",
    "        pass\n",
    "    \n",
    "    return False\n",
    "\n",
    "# Get country codes from anthem MP3 files\n",
    "country_codes = get_country_codes_from_mp3(anthem_directory)\n",
    "\n",
    "# Download SVG flags\n",
    "for code in tqdm(country_codes, desc=\"Downloading flags\"):\n",
    "    if download_svg_flag(code, svg_directory):\n",
    "        print(f\"SUCCESS: Downloaded flag for {code}\")\n",
    "    else:\n",
    "        print(f\"FAILED: Could not download flag for {code}\")\n",
    "\n",
    "print(\"\\nDownload complete. Flags saved in:\", os.path.abspath(svg_directory))\n"
   ]
  },
  {
   "cell_type": "code",
   "execution_count": 5,
   "metadata": {},
   "outputs": [
    {
     "name": "stdout",
     "output_type": "stream",
     "text": [
      "Found 100 country codes from SVG files\n"
     ]
    },
    {
     "name": "stderr",
     "output_type": "stream",
     "text": [
      "Downloading anthems:   0%|          | 0/100 [00:00<?, ?it/s]"
     ]
    },
    {
     "name": "stdout",
     "output_type": "stream",
     "text": [
      "Trying URL: https://nationalanthems.info/ad.mp3\n",
      "Found content: audio/mpeg, Size: 2506886 bytes\n",
      "Successfully downloaded anthem for ad\n"
     ]
    },
    {
     "name": "stderr",
     "output_type": "stream",
     "text": [
      "Downloading anthems:   1%|          | 1/100 [00:16<27:36, 16.74s/it]"
     ]
    },
    {
     "name": "stdout",
     "output_type": "stream",
     "text": [
      "Trying URL: https://nationalanthems.info/ae.mp3\n",
      "Found content: audio/mpeg, Size: 777631 bytes\n",
      "Successfully downloaded anthem for ae\n"
     ]
    },
    {
     "name": "stderr",
     "output_type": "stream",
     "text": [
      "Downloading anthems:   2%|▏         | 2/100 [00:24<19:01, 11.65s/it]"
     ]
    },
    {
     "name": "stdout",
     "output_type": "stream",
     "text": [
      "Trying URL: https://nationalanthems.info/af.mp3\n",
      "Found content: audio/mpeg, Size: 1185331 bytes\n",
      "Successfully downloaded anthem for af\n"
     ]
    },
    {
     "name": "stderr",
     "output_type": "stream",
     "text": [
      "Downloading anthems:   3%|▎         | 3/100 [00:33<16:27, 10.18s/it]"
     ]
    },
    {
     "name": "stdout",
     "output_type": "stream",
     "text": [
      "Trying URL: https://nationalanthems.info/ag.mp3\n",
      "Found content: audio/mpeg, Size: 1948653 bytes\n",
      "Successfully downloaded anthem for ag\n"
     ]
    },
    {
     "name": "stderr",
     "output_type": "stream",
     "text": [
      "Downloading anthems:   4%|▍         | 4/100 [00:45<17:52, 11.18s/it]"
     ]
    },
    {
     "name": "stdout",
     "output_type": "stream",
     "text": [
      "Trying URL: https://nationalanthems.info/ai.mp3\n",
      "Found content: audio/mpeg, Size: 1250881 bytes\n",
      "Successfully downloaded anthem for ai\n"
     ]
    },
    {
     "name": "stderr",
     "output_type": "stream",
     "text": [
      "Downloading anthems:   5%|▌         | 5/100 [00:54<16:06, 10.18s/it]"
     ]
    },
    {
     "name": "stdout",
     "output_type": "stream",
     "text": [
      "Trying URL: https://nationalanthems.info/al.mp3\n",
      "Found content: audio/mpeg, Size: 1057021 bytes\n",
      "Successfully downloaded anthem for al\n"
     ]
    },
    {
     "name": "stderr",
     "output_type": "stream",
     "text": [
      "Downloading anthems:   6%|▌         | 6/100 [01:02<14:49,  9.46s/it]"
     ]
    },
    {
     "name": "stdout",
     "output_type": "stream",
     "text": [
      "Trying URL: https://nationalanthems.info/am.mp3\n",
      "Found content: audio/mpeg, Size: 477391 bytes\n",
      "Successfully downloaded anthem for am\n"
     ]
    },
    {
     "name": "stderr",
     "output_type": "stream",
     "text": [
      "Downloading anthems:   7%|▋         | 7/100 [01:07<12:36,  8.13s/it]"
     ]
    },
    {
     "name": "stdout",
     "output_type": "stream",
     "text": [
      "Trying URL: https://nationalanthems.info/ao.mp3\n",
      "Found content: audio/mpeg, Size: 1311808 bytes\n",
      "Successfully downloaded anthem for ao\n"
     ]
    },
    {
     "name": "stderr",
     "output_type": "stream",
     "text": [
      "Downloading anthems:   8%|▊         | 8/100 [01:17<13:26,  8.77s/it]"
     ]
    },
    {
     "name": "stdout",
     "output_type": "stream",
     "text": [
      "Trying URL: https://nationalanthems.info/aq.mp3\n",
      "Failed with status code 404 for URL https://nationalanthems.info/aq.mp3\n",
      "Trying URL: https://nationalanthems.info/mp3/aq.mp3\n",
      "Failed with status code 404 for URL https://nationalanthems.info/mp3/aq.mp3\n",
      "Trying URL: https://nationalanthems.info/mp3/AQ.mp3\n",
      "Failed with status code 404 for URL https://nationalanthems.info/mp3/AQ.mp3\n",
      "Trying URL: https://nationalanthems.info/audio/aq.mp3\n",
      "Failed with status code 404 for URL https://nationalanthems.info/audio/aq.mp3\n",
      "Trying URL: https://nationalanthems.info/sounds/aq.mp3\n",
      "Failed with status code 404 for URL https://nationalanthems.info/sounds/aq.mp3\n",
      "All URL patterns failed for aq\n"
     ]
    },
    {
     "name": "stderr",
     "output_type": "stream",
     "text": [
      "Downloading anthems:   9%|▉         | 9/100 [01:32<15:52, 10.47s/it]"
     ]
    },
    {
     "name": "stdout",
     "output_type": "stream",
     "text": [
      "Trying URL: https://nationalanthems.info/ar.mp3\n",
      "Found content: audio/mpeg, Size: 3409735 bytes\n",
      "Successfully downloaded anthem for ar\n"
     ]
    },
    {
     "name": "stderr",
     "output_type": "stream",
     "text": [
      "Downloading anthems:  10%|█         | 10/100 [01:54<20:57, 13.98s/it]"
     ]
    },
    {
     "name": "stdout",
     "output_type": "stream",
     "text": [
      "Trying URL: https://nationalanthems.info/as.mp3\n",
      "Found content: audio/mpeg, Size: 1694572 bytes\n",
      "Successfully downloaded anthem for as\n"
     ]
    },
    {
     "name": "stderr",
     "output_type": "stream",
     "text": [
      "Downloading anthems:  11%|█         | 11/100 [02:06<20:16, 13.67s/it]"
     ]
    },
    {
     "name": "stdout",
     "output_type": "stream",
     "text": [
      "Trying URL: https://nationalanthems.info/at.mp3\n",
      "Found content: audio/mpeg, Size: 1433155 bytes\n",
      "Successfully downloaded anthem for at\n"
     ]
    },
    {
     "name": "stderr",
     "output_type": "stream",
     "text": [
      "Downloading anthems:  12%|█▏        | 12/100 [02:16<18:13, 12.43s/it]"
     ]
    },
    {
     "name": "stdout",
     "output_type": "stream",
     "text": [
      "Trying URL: https://nationalanthems.info/au.mp3\n",
      "Found content: audio/mpeg, Size: 872290 bytes\n",
      "Successfully downloaded anthem for au\n"
     ]
    },
    {
     "name": "stderr",
     "output_type": "stream",
     "text": [
      "Downloading anthems:  13%|█▎        | 13/100 [02:24<15:53, 10.96s/it]"
     ]
    },
    {
     "name": "stdout",
     "output_type": "stream",
     "text": [
      "Trying URL: https://nationalanthems.info/aw.mp3\n",
      "Found content: audio/mpeg, Size: 2021376 bytes\n",
      "Successfully downloaded anthem for aw\n"
     ]
    },
    {
     "name": "stderr",
     "output_type": "stream",
     "text": [
      "Downloading anthems:  14%|█▍        | 14/100 [02:38<16:59, 11.86s/it]"
     ]
    },
    {
     "name": "stdout",
     "output_type": "stream",
     "text": [
      "Trying URL: https://nationalanthems.info/ax.mp3\n",
      "Found content: audio/mpeg, Size: 1142881 bytes\n",
      "Successfully downloaded anthem for ax\n"
     ]
    },
    {
     "name": "stderr",
     "output_type": "stream",
     "text": [
      "Downloading anthems:  15%|█▌        | 15/100 [02:47<15:43, 11.10s/it]"
     ]
    },
    {
     "name": "stdout",
     "output_type": "stream",
     "text": [
      "Trying URL: https://nationalanthems.info/az.mp3\n",
      "Found content: audio/mpeg, Size: 2107392 bytes\n",
      "Successfully downloaded anthem for az\n"
     ]
    },
    {
     "name": "stderr",
     "output_type": "stream",
     "text": [
      "Downloading anthems:  16%|█▌        | 16/100 [02:58<15:43, 11.24s/it]"
     ]
    },
    {
     "name": "stdout",
     "output_type": "stream",
     "text": [
      "Trying URL: https://nationalanthems.info/ba.mp3\n",
      "Found content: audio/mpeg, Size: 4004801 bytes\n",
      "Successfully downloaded anthem for ba\n"
     ]
    },
    {
     "name": "stderr",
     "output_type": "stream",
     "text": [
      "Downloading anthems:  17%|█▋        | 17/100 [03:16<18:09, 13.13s/it]"
     ]
    },
    {
     "name": "stdout",
     "output_type": "stream",
     "text": [
      "Trying URL: https://nationalanthems.info/bb.mp3\n",
      "Found content: audio/mpeg, Size: 1255715 bytes\n",
      "Successfully downloaded anthem for bb\n"
     ]
    },
    {
     "name": "stderr",
     "output_type": "stream",
     "text": [
      "Downloading anthems:  18%|█▊        | 18/100 [03:23<15:26, 11.30s/it]"
     ]
    },
    {
     "name": "stdout",
     "output_type": "stream",
     "text": [
      "Trying URL: https://nationalanthems.info/bd.mp3\n",
      "Found content: audio/mpeg, Size: 2157067 bytes\n",
      "Successfully downloaded anthem for bd\n"
     ]
    },
    {
     "name": "stderr",
     "output_type": "stream",
     "text": [
      "Downloading anthems:  19%|█▉        | 19/100 [03:32<14:20, 10.63s/it]"
     ]
    },
    {
     "name": "stdout",
     "output_type": "stream",
     "text": [
      "Trying URL: https://nationalanthems.info/be.mp3\n",
      "Found content: audio/mpeg, Size: 1009977 bytes\n",
      "Successfully downloaded anthem for be\n"
     ]
    },
    {
     "name": "stderr",
     "output_type": "stream",
     "text": [
      "Downloading anthems:  20%|██        | 20/100 [03:38<12:27,  9.35s/it]"
     ]
    },
    {
     "name": "stdout",
     "output_type": "stream",
     "text": [
      "Trying URL: https://nationalanthems.info/bf.mp3\n",
      "Found content: audio/mpeg, Size: 1715464 bytes\n",
      "Successfully downloaded anthem for bf\n"
     ]
    },
    {
     "name": "stderr",
     "output_type": "stream",
     "text": [
      "Downloading anthems:  21%|██        | 21/100 [03:47<11:59,  9.11s/it]"
     ]
    },
    {
     "name": "stdout",
     "output_type": "stream",
     "text": [
      "Trying URL: https://nationalanthems.info/bg.mp3\n",
      "Found content: audio/mpeg, Size: 1175552 bytes\n",
      "Successfully downloaded anthem for bg\n"
     ]
    },
    {
     "name": "stderr",
     "output_type": "stream",
     "text": [
      "Downloading anthems:  22%|██▏       | 22/100 [03:54<10:55,  8.41s/it]"
     ]
    },
    {
     "name": "stdout",
     "output_type": "stream",
     "text": [
      "Trying URL: https://nationalanthems.info/bh.mp3\n",
      "Found content: audio/mpeg, Size: 790967 bytes\n",
      "Successfully downloaded anthem for bh\n"
     ]
    },
    {
     "name": "stderr",
     "output_type": "stream",
     "text": [
      "Downloading anthems:  23%|██▎       | 23/100 [04:00<09:49,  7.65s/it]"
     ]
    },
    {
     "name": "stdout",
     "output_type": "stream",
     "text": [
      "Trying URL: https://nationalanthems.info/bi.mp3\n",
      "Found content: audio/mpeg, Size: 2059446 bytes\n",
      "Successfully downloaded anthem for bi\n"
     ]
    },
    {
     "name": "stderr",
     "output_type": "stream",
     "text": [
      "Downloading anthems:  24%|██▍       | 24/100 [04:12<11:37,  9.18s/it]"
     ]
    },
    {
     "name": "stdout",
     "output_type": "stream",
     "text": [
      "Trying URL: https://nationalanthems.info/bj.mp3\n",
      "Found content: audio/mpeg, Size: 1086628 bytes\n",
      "Successfully downloaded anthem for bj\n"
     ]
    },
    {
     "name": "stderr",
     "output_type": "stream",
     "text": [
      "Downloading anthems:  25%|██▌       | 25/100 [04:21<11:16,  9.02s/it]"
     ]
    },
    {
     "name": "stdout",
     "output_type": "stream",
     "text": [
      "Trying URL: https://nationalanthems.info/bl.mp3\n",
      "Found content: audio/mpeg, Size: 985088 bytes\n",
      "Successfully downloaded anthem for bl\n"
     ]
    },
    {
     "name": "stderr",
     "output_type": "stream",
     "text": [
      "Downloading anthems:  26%|██▌       | 26/100 [04:29<10:42,  8.68s/it]"
     ]
    },
    {
     "name": "stdout",
     "output_type": "stream",
     "text": [
      "Trying URL: https://nationalanthems.info/bm.mp3\n",
      "Found content: audio/mpeg, Size: 1525686 bytes\n",
      "Successfully downloaded anthem for bm\n"
     ]
    },
    {
     "name": "stderr",
     "output_type": "stream",
     "text": [
      "Downloading anthems:  27%|██▋       | 27/100 [04:42<12:02,  9.90s/it]"
     ]
    },
    {
     "name": "stdout",
     "output_type": "stream",
     "text": [
      "Trying URL: https://nationalanthems.info/bn.mp3\n",
      "Found content: audio/mpeg, Size: 1039507 bytes\n",
      "Successfully downloaded anthem for bn\n"
     ]
    },
    {
     "name": "stderr",
     "output_type": "stream",
     "text": [
      "Downloading anthems:  28%|██▊       | 28/100 [04:53<12:13, 10.19s/it]"
     ]
    },
    {
     "name": "stdout",
     "output_type": "stream",
     "text": [
      "Trying URL: https://nationalanthems.info/bo.mp3\n",
      "Found content: audio/mpeg, Size: 1609963 bytes\n",
      "Successfully downloaded anthem for bo\n"
     ]
    },
    {
     "name": "stderr",
     "output_type": "stream",
     "text": [
      "Downloading anthems:  29%|██▉       | 29/100 [05:03<12:10, 10.29s/it]"
     ]
    },
    {
     "name": "stdout",
     "output_type": "stream",
     "text": [
      "Trying URL: https://nationalanthems.info/bq.mp3\n",
      "Failed with status code 404 for URL https://nationalanthems.info/bq.mp3\n",
      "Trying URL: https://nationalanthems.info/mp3/bq.mp3\n",
      "Failed with status code 404 for URL https://nationalanthems.info/mp3/bq.mp3\n",
      "Trying URL: https://nationalanthems.info/mp3/BQ.mp3\n",
      "Failed with status code 404 for URL https://nationalanthems.info/mp3/BQ.mp3\n",
      "Trying URL: https://nationalanthems.info/audio/bq.mp3\n",
      "Failed with status code 404 for URL https://nationalanthems.info/audio/bq.mp3\n",
      "Trying URL: https://nationalanthems.info/sounds/bq.mp3\n",
      "Failed with status code 404 for URL https://nationalanthems.info/sounds/bq.mp3\n",
      "All URL patterns failed for bq\n"
     ]
    },
    {
     "name": "stderr",
     "output_type": "stream",
     "text": [
      "Downloading anthems:  30%|███       | 30/100 [05:20<14:25, 12.37s/it]"
     ]
    },
    {
     "name": "stdout",
     "output_type": "stream",
     "text": [
      "Trying URL: https://nationalanthems.info/br.mp3\n",
      "Found content: audio/mpeg, Size: 1805119 bytes\n",
      "Successfully downloaded anthem for br\n"
     ]
    },
    {
     "name": "stderr",
     "output_type": "stream",
     "text": [
      "Downloading anthems:  31%|███       | 31/100 [05:32<13:52, 12.07s/it]"
     ]
    },
    {
     "name": "stdout",
     "output_type": "stream",
     "text": [
      "Trying URL: https://nationalanthems.info/bs.mp3\n",
      "Found content: audio/mpeg, Size: 1198801 bytes\n",
      "Successfully downloaded anthem for bs\n"
     ]
    },
    {
     "name": "stderr",
     "output_type": "stream",
     "text": [
      "Downloading anthems:  32%|███▏      | 32/100 [05:41<12:37, 11.14s/it]"
     ]
    },
    {
     "name": "stdout",
     "output_type": "stream",
     "text": [
      "Trying URL: https://nationalanthems.info/bt.mp3\n",
      "Error trying https://nationalanthems.info/bt.mp3: HTTPSConnectionPool(host='nationalanthems.info', port=443): Read timed out. (read timeout=10)\n",
      "Trying URL: https://nationalanthems.info/mp3/bt.mp3\n",
      "Error trying https://nationalanthems.info/mp3/bt.mp3: HTTPSConnectionPool(host='nationalanthems.info', port=443): Read timed out. (read timeout=10)\n",
      "Trying URL: https://nationalanthems.info/mp3/BT.mp3\n",
      "Error trying https://nationalanthems.info/mp3/BT.mp3: HTTPSConnectionPool(host='nationalanthems.info', port=443): Read timed out. (read timeout=10)\n",
      "Trying URL: https://nationalanthems.info/audio/bt.mp3\n",
      "Error trying https://nationalanthems.info/audio/bt.mp3: HTTPSConnectionPool(host='nationalanthems.info', port=443): Read timed out. (read timeout=10)\n",
      "Trying URL: https://nationalanthems.info/sounds/bt.mp3\n",
      "Failed with status code 404 for URL https://nationalanthems.info/sounds/bt.mp3\n",
      "All URL patterns failed for bt\n"
     ]
    },
    {
     "name": "stderr",
     "output_type": "stream",
     "text": [
      "Downloading anthems:  33%|███▎      | 33/100 [06:40<28:41, 25.70s/it]"
     ]
    },
    {
     "name": "stdout",
     "output_type": "stream",
     "text": [
      "Trying URL: https://nationalanthems.info/bv.mp3\n",
      "Failed with status code 404 for URL https://nationalanthems.info/bv.mp3\n",
      "Trying URL: https://nationalanthems.info/mp3/bv.mp3\n",
      "Failed with status code 404 for URL https://nationalanthems.info/mp3/bv.mp3\n",
      "Trying URL: https://nationalanthems.info/mp3/BV.mp3\n",
      "Failed with status code 404 for URL https://nationalanthems.info/mp3/BV.mp3\n",
      "Trying URL: https://nationalanthems.info/audio/bv.mp3\n",
      "Failed with status code 404 for URL https://nationalanthems.info/audio/bv.mp3\n",
      "Trying URL: https://nationalanthems.info/sounds/bv.mp3\n",
      "Failed with status code 404 for URL https://nationalanthems.info/sounds/bv.mp3\n",
      "All URL patterns failed for bv\n"
     ]
    },
    {
     "name": "stderr",
     "output_type": "stream",
     "text": [
      "Downloading anthems:  34%|███▍      | 34/100 [06:54<24:23, 22.17s/it]"
     ]
    },
    {
     "name": "stdout",
     "output_type": "stream",
     "text": [
      "Trying URL: https://nationalanthems.info/bw.mp3\n",
      "Found content: audio/mpeg, Size: 902805 bytes\n",
      "Successfully downloaded anthem for bw\n"
     ]
    },
    {
     "name": "stderr",
     "output_type": "stream",
     "text": [
      "Downloading anthems:  35%|███▌      | 35/100 [07:03<19:38, 18.14s/it]"
     ]
    },
    {
     "name": "stdout",
     "output_type": "stream",
     "text": [
      "Trying URL: https://nationalanthems.info/by.mp3\n",
      "Found content: audio/mpeg, Size: 1850155 bytes\n",
      "Successfully downloaded anthem for by\n"
     ]
    },
    {
     "name": "stderr",
     "output_type": "stream",
     "text": [
      "Downloading anthems:  36%|███▌      | 36/100 [07:14<16:59, 15.93s/it]"
     ]
    },
    {
     "name": "stdout",
     "output_type": "stream",
     "text": [
      "Trying URL: https://nationalanthems.info/bz.mp3\n",
      "Found content: audio/mpeg, Size: 2598640 bytes\n",
      "Successfully downloaded anthem for bz\n"
     ]
    },
    {
     "name": "stderr",
     "output_type": "stream",
     "text": [
      "Downloading anthems:  37%|███▋      | 37/100 [07:27<15:46, 15.02s/it]"
     ]
    },
    {
     "name": "stdout",
     "output_type": "stream",
     "text": [
      "Trying URL: https://nationalanthems.info/ca.mp3\n",
      "Found content: audio/mpeg, Size: 1264687 bytes\n",
      "Successfully downloaded anthem for ca\n"
     ]
    },
    {
     "name": "stderr",
     "output_type": "stream",
     "text": [
      "Downloading anthems:  38%|███▊      | 38/100 [07:38<14:29, 14.02s/it]"
     ]
    },
    {
     "name": "stdout",
     "output_type": "stream",
     "text": [
      "Trying URL: https://nationalanthems.info/cc.mp3\n",
      "Failed with status code 404 for URL https://nationalanthems.info/cc.mp3\n",
      "Trying URL: https://nationalanthems.info/mp3/cc.mp3\n",
      "Failed with status code 404 for URL https://nationalanthems.info/mp3/cc.mp3\n",
      "Trying URL: https://nationalanthems.info/mp3/CC.mp3\n",
      "Failed with status code 404 for URL https://nationalanthems.info/mp3/CC.mp3\n",
      "Trying URL: https://nationalanthems.info/audio/cc.mp3\n",
      "Failed with status code 404 for URL https://nationalanthems.info/audio/cc.mp3\n",
      "Trying URL: https://nationalanthems.info/sounds/cc.mp3\n",
      "Failed with status code 404 for URL https://nationalanthems.info/sounds/cc.mp3\n",
      "All URL patterns failed for cc\n"
     ]
    },
    {
     "name": "stderr",
     "output_type": "stream",
     "text": [
      "Downloading anthems:  39%|███▉      | 39/100 [07:51<13:55, 13.70s/it]"
     ]
    },
    {
     "name": "stdout",
     "output_type": "stream",
     "text": [
      "Trying URL: https://nationalanthems.info/cd.mp3\n",
      "Found content: audio/mpeg, Size: 2138130 bytes\n",
      "Successfully downloaded anthem for cd\n"
     ]
    },
    {
     "name": "stderr",
     "output_type": "stream",
     "text": [
      "Downloading anthems:  40%|████      | 40/100 [08:03<13:04, 13.07s/it]"
     ]
    },
    {
     "name": "stdout",
     "output_type": "stream",
     "text": [
      "Trying URL: https://nationalanthems.info/cf.mp3\n",
      "Found content: audio/mpeg, Size: 1053591 bytes\n",
      "Error trying https://nationalanthems.info/cf.mp3: ('Connection broken: IncompleteRead(927920 bytes read, 125671 more expected)', IncompleteRead(927920 bytes read, 125671 more expected))\n",
      "Trying URL: https://nationalanthems.info/mp3/cf.mp3\n",
      "Error trying https://nationalanthems.info/mp3/cf.mp3: HTTPSConnectionPool(host='nationalanthems.info', port=443): Max retries exceeded with url: /mp3/cf.mp3 (Caused by SSLError(SSLCertVerificationError(1, \"[SSL: CERTIFICATE_VERIFY_FAILED] certificate verify failed: Hostname mismatch, certificate is not valid for 'nationalanthems.info'. (_ssl.c:1028)\")))\n",
      "Trying URL: https://nationalanthems.info/mp3/CF.mp3\n",
      "Error trying https://nationalanthems.info/mp3/CF.mp3: HTTPSConnectionPool(host='nationalanthems.info', port=443): Max retries exceeded with url: /mp3/CF.mp3 (Caused by SSLError(SSLCertVerificationError(1, \"[SSL: CERTIFICATE_VERIFY_FAILED] certificate verify failed: Hostname mismatch, certificate is not valid for 'nationalanthems.info'. (_ssl.c:1028)\")))\n",
      "Trying URL: https://nationalanthems.info/audio/cf.mp3\n",
      "Error trying https://nationalanthems.info/audio/cf.mp3: HTTPSConnectionPool(host='nationalanthems.info', port=443): Max retries exceeded with url: /audio/cf.mp3 (Caused by SSLError(SSLCertVerificationError(1, \"[SSL: CERTIFICATE_VERIFY_FAILED] certificate verify failed: Hostname mismatch, certificate is not valid for 'nationalanthems.info'. (_ssl.c:1028)\")))\n",
      "Trying URL: https://nationalanthems.info/sounds/cf.mp3\n",
      "Error trying https://nationalanthems.info/sounds/cf.mp3: HTTPSConnectionPool(host='nationalanthems.info', port=443): Max retries exceeded with url: /sounds/cf.mp3 (Caused by SSLError(SSLCertVerificationError(1, \"[SSL: CERTIFICATE_VERIFY_FAILED] certificate verify failed: Hostname mismatch, certificate is not valid for 'nationalanthems.info'. (_ssl.c:1028)\")))\n",
      "All URL patterns failed for cf\n"
     ]
    },
    {
     "name": "stderr",
     "output_type": "stream",
     "text": [
      "Downloading anthems:  41%|████      | 41/100 [08:12<11:35, 11.79s/it]"
     ]
    },
    {
     "name": "stdout",
     "output_type": "stream",
     "text": [
      "Trying URL: https://nationalanthems.info/cg.mp3\n",
      "Error trying https://nationalanthems.info/cg.mp3: HTTPSConnectionPool(host='nationalanthems.info', port=443): Max retries exceeded with url: /cg.mp3 (Caused by SSLError(SSLCertVerificationError(1, \"[SSL: CERTIFICATE_VERIFY_FAILED] certificate verify failed: Hostname mismatch, certificate is not valid for 'nationalanthems.info'. (_ssl.c:1028)\")))\n",
      "Trying URL: https://nationalanthems.info/mp3/cg.mp3\n",
      "Error trying https://nationalanthems.info/mp3/cg.mp3: HTTPSConnectionPool(host='nationalanthems.info', port=443): Max retries exceeded with url: /mp3/cg.mp3 (Caused by SSLError(SSLCertVerificationError(1, \"[SSL: CERTIFICATE_VERIFY_FAILED] certificate verify failed: Hostname mismatch, certificate is not valid for 'nationalanthems.info'. (_ssl.c:1028)\")))\n",
      "Trying URL: https://nationalanthems.info/mp3/CG.mp3\n",
      "Error trying https://nationalanthems.info/mp3/CG.mp3: HTTPSConnectionPool(host='nationalanthems.info', port=443): Max retries exceeded with url: /mp3/CG.mp3 (Caused by SSLError(SSLCertVerificationError(1, \"[SSL: CERTIFICATE_VERIFY_FAILED] certificate verify failed: Hostname mismatch, certificate is not valid for 'nationalanthems.info'. (_ssl.c:1028)\")))\n",
      "Trying URL: https://nationalanthems.info/audio/cg.mp3\n",
      "Error trying https://nationalanthems.info/audio/cg.mp3: HTTPSConnectionPool(host='nationalanthems.info', port=443): Max retries exceeded with url: /audio/cg.mp3 (Caused by SSLError(SSLCertVerificationError(1, \"[SSL: CERTIFICATE_VERIFY_FAILED] certificate verify failed: Hostname mismatch, certificate is not valid for 'nationalanthems.info'. (_ssl.c:1028)\")))\n",
      "Trying URL: https://nationalanthems.info/sounds/cg.mp3\n",
      "Error trying https://nationalanthems.info/sounds/cg.mp3: HTTPSConnectionPool(host='nationalanthems.info', port=443): Max retries exceeded with url: /sounds/cg.mp3 (Caused by SSLError(SSLCertVerificationError(1, \"[SSL: CERTIFICATE_VERIFY_FAILED] certificate verify failed: Hostname mismatch, certificate is not valid for 'nationalanthems.info'. (_ssl.c:1028)\")))\n",
      "All URL patterns failed for cg\n"
     ]
    },
    {
     "name": "stderr",
     "output_type": "stream",
     "text": [
      "Downloading anthems:  42%|████▏     | 42/100 [08:14<08:37,  8.92s/it]"
     ]
    },
    {
     "name": "stdout",
     "output_type": "stream",
     "text": [
      "Trying URL: https://nationalanthems.info/ch.mp3\n",
      "Error trying https://nationalanthems.info/ch.mp3: HTTPSConnectionPool(host='nationalanthems.info', port=443): Max retries exceeded with url: /ch.mp3 (Caused by SSLError(SSLCertVerificationError(1, \"[SSL: CERTIFICATE_VERIFY_FAILED] certificate verify failed: Hostname mismatch, certificate is not valid for 'nationalanthems.info'. (_ssl.c:1028)\")))\n",
      "Trying URL: https://nationalanthems.info/mp3/ch.mp3\n",
      "Error trying https://nationalanthems.info/mp3/ch.mp3: HTTPSConnectionPool(host='nationalanthems.info', port=443): Max retries exceeded with url: /mp3/ch.mp3 (Caused by SSLError(SSLCertVerificationError(1, \"[SSL: CERTIFICATE_VERIFY_FAILED] certificate verify failed: Hostname mismatch, certificate is not valid for 'nationalanthems.info'. (_ssl.c:1028)\")))\n",
      "Trying URL: https://nationalanthems.info/mp3/CH.mp3\n",
      "Error trying https://nationalanthems.info/mp3/CH.mp3: HTTPSConnectionPool(host='nationalanthems.info', port=443): Max retries exceeded with url: /mp3/CH.mp3 (Caused by SSLError(SSLCertVerificationError(1, \"[SSL: CERTIFICATE_VERIFY_FAILED] certificate verify failed: Hostname mismatch, certificate is not valid for 'nationalanthems.info'. (_ssl.c:1028)\")))\n",
      "Trying URL: https://nationalanthems.info/audio/ch.mp3\n",
      "Error trying https://nationalanthems.info/audio/ch.mp3: HTTPSConnectionPool(host='nationalanthems.info', port=443): Max retries exceeded with url: /audio/ch.mp3 (Caused by SSLError(SSLCertVerificationError(1, \"[SSL: CERTIFICATE_VERIFY_FAILED] certificate verify failed: Hostname mismatch, certificate is not valid for 'nationalanthems.info'. (_ssl.c:1028)\")))\n",
      "Trying URL: https://nationalanthems.info/sounds/ch.mp3\n",
      "Error trying https://nationalanthems.info/sounds/ch.mp3: HTTPSConnectionPool(host='nationalanthems.info', port=443): Max retries exceeded with url: /sounds/ch.mp3 (Caused by SSLError(SSLCertVerificationError(1, \"[SSL: CERTIFICATE_VERIFY_FAILED] certificate verify failed: Hostname mismatch, certificate is not valid for 'nationalanthems.info'. (_ssl.c:1028)\")))\n",
      "All URL patterns failed for ch\n"
     ]
    },
    {
     "name": "stderr",
     "output_type": "stream",
     "text": [
      "Downloading anthems:  43%|████▎     | 43/100 [08:16<06:36,  6.96s/it]"
     ]
    },
    {
     "name": "stdout",
     "output_type": "stream",
     "text": [
      "Trying URL: https://nationalanthems.info/ci.mp3\n",
      "Error trying https://nationalanthems.info/ci.mp3: HTTPSConnectionPool(host='nationalanthems.info', port=443): Max retries exceeded with url: /ci.mp3 (Caused by SSLError(SSLCertVerificationError(1, \"[SSL: CERTIFICATE_VERIFY_FAILED] certificate verify failed: Hostname mismatch, certificate is not valid for 'nationalanthems.info'. (_ssl.c:1028)\")))\n",
      "Trying URL: https://nationalanthems.info/mp3/ci.mp3\n",
      "Error trying https://nationalanthems.info/mp3/ci.mp3: HTTPSConnectionPool(host='nationalanthems.info', port=443): Max retries exceeded with url: /mp3/ci.mp3 (Caused by SSLError(SSLCertVerificationError(1, \"[SSL: CERTIFICATE_VERIFY_FAILED] certificate verify failed: Hostname mismatch, certificate is not valid for 'nationalanthems.info'. (_ssl.c:1028)\")))\n",
      "Trying URL: https://nationalanthems.info/mp3/CI.mp3\n",
      "Error trying https://nationalanthems.info/mp3/CI.mp3: HTTPSConnectionPool(host='nationalanthems.info', port=443): Max retries exceeded with url: /mp3/CI.mp3 (Caused by SSLError(SSLCertVerificationError(1, \"[SSL: CERTIFICATE_VERIFY_FAILED] certificate verify failed: Hostname mismatch, certificate is not valid for 'nationalanthems.info'. (_ssl.c:1028)\")))\n",
      "Trying URL: https://nationalanthems.info/audio/ci.mp3\n",
      "Error trying https://nationalanthems.info/audio/ci.mp3: HTTPSConnectionPool(host='nationalanthems.info', port=443): Max retries exceeded with url: /audio/ci.mp3 (Caused by SSLError(SSLCertVerificationError(1, \"[SSL: CERTIFICATE_VERIFY_FAILED] certificate verify failed: Hostname mismatch, certificate is not valid for 'nationalanthems.info'. (_ssl.c:1028)\")))\n",
      "Trying URL: https://nationalanthems.info/sounds/ci.mp3\n",
      "Error trying https://nationalanthems.info/sounds/ci.mp3: HTTPSConnectionPool(host='nationalanthems.info', port=443): Max retries exceeded with url: /sounds/ci.mp3 (Caused by SSLError(SSLCertVerificationError(1, \"[SSL: CERTIFICATE_VERIFY_FAILED] certificate verify failed: Hostname mismatch, certificate is not valid for 'nationalanthems.info'. (_ssl.c:1028)\")))\n",
      "All URL patterns failed for ci\n"
     ]
    },
    {
     "name": "stderr",
     "output_type": "stream",
     "text": [
      "Downloading anthems:  44%|████▍     | 44/100 [08:19<05:10,  5.54s/it]"
     ]
    },
    {
     "name": "stdout",
     "output_type": "stream",
     "text": [
      "Trying URL: https://nationalanthems.info/ck.mp3\n",
      "Error trying https://nationalanthems.info/ck.mp3: HTTPSConnectionPool(host='nationalanthems.info', port=443): Max retries exceeded with url: /ck.mp3 (Caused by SSLError(SSLCertVerificationError(1, \"[SSL: CERTIFICATE_VERIFY_FAILED] certificate verify failed: Hostname mismatch, certificate is not valid for 'nationalanthems.info'. (_ssl.c:1028)\")))\n",
      "Trying URL: https://nationalanthems.info/mp3/ck.mp3\n",
      "Error trying https://nationalanthems.info/mp3/ck.mp3: HTTPSConnectionPool(host='nationalanthems.info', port=443): Max retries exceeded with url: /mp3/ck.mp3 (Caused by SSLError(SSLCertVerificationError(1, \"[SSL: CERTIFICATE_VERIFY_FAILED] certificate verify failed: Hostname mismatch, certificate is not valid for 'nationalanthems.info'. (_ssl.c:1028)\")))\n",
      "Trying URL: https://nationalanthems.info/mp3/CK.mp3\n",
      "Error trying https://nationalanthems.info/mp3/CK.mp3: HTTPSConnectionPool(host='nationalanthems.info', port=443): Max retries exceeded with url: /mp3/CK.mp3 (Caused by SSLError(SSLCertVerificationError(1, \"[SSL: CERTIFICATE_VERIFY_FAILED] certificate verify failed: Hostname mismatch, certificate is not valid for 'nationalanthems.info'. (_ssl.c:1028)\")))\n",
      "Trying URL: https://nationalanthems.info/audio/ck.mp3\n",
      "Error trying https://nationalanthems.info/audio/ck.mp3: HTTPSConnectionPool(host='nationalanthems.info', port=443): Max retries exceeded with url: /audio/ck.mp3 (Caused by SSLError(SSLCertVerificationError(1, \"[SSL: CERTIFICATE_VERIFY_FAILED] certificate verify failed: Hostname mismatch, certificate is not valid for 'nationalanthems.info'. (_ssl.c:1028)\")))\n",
      "Trying URL: https://nationalanthems.info/sounds/ck.mp3\n",
      "Error trying https://nationalanthems.info/sounds/ck.mp3: HTTPSConnectionPool(host='nationalanthems.info', port=443): Max retries exceeded with url: /sounds/ck.mp3 (Caused by SSLError(SSLCertVerificationError(1, \"[SSL: CERTIFICATE_VERIFY_FAILED] certificate verify failed: Hostname mismatch, certificate is not valid for 'nationalanthems.info'. (_ssl.c:1028)\")))\n",
      "All URL patterns failed for ck\n"
     ]
    },
    {
     "name": "stderr",
     "output_type": "stream",
     "text": [
      "Downloading anthems:  45%|████▌     | 45/100 [08:21<04:08,  4.51s/it]"
     ]
    },
    {
     "name": "stdout",
     "output_type": "stream",
     "text": [
      "Trying URL: https://nationalanthems.info/cl.mp3\n",
      "Error trying https://nationalanthems.info/cl.mp3: HTTPSConnectionPool(host='nationalanthems.info', port=443): Max retries exceeded with url: /cl.mp3 (Caused by SSLError(SSLCertVerificationError(1, \"[SSL: CERTIFICATE_VERIFY_FAILED] certificate verify failed: Hostname mismatch, certificate is not valid for 'nationalanthems.info'. (_ssl.c:1028)\")))\n",
      "Trying URL: https://nationalanthems.info/mp3/cl.mp3\n",
      "Error trying https://nationalanthems.info/mp3/cl.mp3: HTTPSConnectionPool(host='nationalanthems.info', port=443): Max retries exceeded with url: /mp3/cl.mp3 (Caused by SSLError(SSLCertVerificationError(1, \"[SSL: CERTIFICATE_VERIFY_FAILED] certificate verify failed: Hostname mismatch, certificate is not valid for 'nationalanthems.info'. (_ssl.c:1028)\")))\n",
      "Trying URL: https://nationalanthems.info/mp3/CL.mp3\n",
      "Error trying https://nationalanthems.info/mp3/CL.mp3: HTTPSConnectionPool(host='nationalanthems.info', port=443): Max retries exceeded with url: /mp3/CL.mp3 (Caused by SSLError(SSLCertVerificationError(1, \"[SSL: CERTIFICATE_VERIFY_FAILED] certificate verify failed: Hostname mismatch, certificate is not valid for 'nationalanthems.info'. (_ssl.c:1028)\")))\n",
      "Trying URL: https://nationalanthems.info/audio/cl.mp3\n",
      "Error trying https://nationalanthems.info/audio/cl.mp3: HTTPSConnectionPool(host='nationalanthems.info', port=443): Max retries exceeded with url: /audio/cl.mp3 (Caused by SSLError(SSLCertVerificationError(1, \"[SSL: CERTIFICATE_VERIFY_FAILED] certificate verify failed: Hostname mismatch, certificate is not valid for 'nationalanthems.info'. (_ssl.c:1028)\")))\n",
      "Trying URL: https://nationalanthems.info/sounds/cl.mp3\n",
      "Error trying https://nationalanthems.info/sounds/cl.mp3: HTTPSConnectionPool(host='nationalanthems.info', port=443): Max retries exceeded with url: /sounds/cl.mp3 (Caused by SSLError(SSLCertVerificationError(1, \"[SSL: CERTIFICATE_VERIFY_FAILED] certificate verify failed: Hostname mismatch, certificate is not valid for 'nationalanthems.info'. (_ssl.c:1028)\")))\n",
      "All URL patterns failed for cl\n"
     ]
    },
    {
     "name": "stderr",
     "output_type": "stream",
     "text": [
      "Downloading anthems:  46%|████▌     | 46/100 [08:23<03:25,  3.80s/it]"
     ]
    },
    {
     "name": "stdout",
     "output_type": "stream",
     "text": [
      "Trying URL: https://nationalanthems.info/cm.mp3\n",
      "Error trying https://nationalanthems.info/cm.mp3: HTTPSConnectionPool(host='nationalanthems.info', port=443): Max retries exceeded with url: /cm.mp3 (Caused by SSLError(SSLCertVerificationError(1, \"[SSL: CERTIFICATE_VERIFY_FAILED] certificate verify failed: Hostname mismatch, certificate is not valid for 'nationalanthems.info'. (_ssl.c:1028)\")))\n",
      "Trying URL: https://nationalanthems.info/mp3/cm.mp3\n",
      "Error trying https://nationalanthems.info/mp3/cm.mp3: HTTPSConnectionPool(host='nationalanthems.info', port=443): Max retries exceeded with url: /mp3/cm.mp3 (Caused by SSLError(SSLCertVerificationError(1, \"[SSL: CERTIFICATE_VERIFY_FAILED] certificate verify failed: Hostname mismatch, certificate is not valid for 'nationalanthems.info'. (_ssl.c:1028)\")))\n",
      "Trying URL: https://nationalanthems.info/mp3/CM.mp3\n",
      "Error trying https://nationalanthems.info/mp3/CM.mp3: HTTPSConnectionPool(host='nationalanthems.info', port=443): Max retries exceeded with url: /mp3/CM.mp3 (Caused by SSLError(SSLCertVerificationError(1, \"[SSL: CERTIFICATE_VERIFY_FAILED] certificate verify failed: Hostname mismatch, certificate is not valid for 'nationalanthems.info'. (_ssl.c:1028)\")))\n",
      "Trying URL: https://nationalanthems.info/audio/cm.mp3\n",
      "Error trying https://nationalanthems.info/audio/cm.mp3: HTTPSConnectionPool(host='nationalanthems.info', port=443): Max retries exceeded with url: /audio/cm.mp3 (Caused by SSLError(SSLCertVerificationError(1, \"[SSL: CERTIFICATE_VERIFY_FAILED] certificate verify failed: Hostname mismatch, certificate is not valid for 'nationalanthems.info'. (_ssl.c:1028)\")))\n",
      "Trying URL: https://nationalanthems.info/sounds/cm.mp3\n",
      "Error trying https://nationalanthems.info/sounds/cm.mp3: HTTPSConnectionPool(host='nationalanthems.info', port=443): Max retries exceeded with url: /sounds/cm.mp3 (Caused by SSLError(SSLCertVerificationError(1, \"[SSL: CERTIFICATE_VERIFY_FAILED] certificate verify failed: Hostname mismatch, certificate is not valid for 'nationalanthems.info'. (_ssl.c:1028)\")))\n",
      "All URL patterns failed for cm\n"
     ]
    },
    {
     "name": "stderr",
     "output_type": "stream",
     "text": [
      "Downloading anthems:  47%|████▋     | 47/100 [08:25<02:55,  3.32s/it]"
     ]
    },
    {
     "name": "stdout",
     "output_type": "stream",
     "text": [
      "Trying URL: https://nationalanthems.info/cn.mp3\n",
      "Error trying https://nationalanthems.info/cn.mp3: HTTPSConnectionPool(host='nationalanthems.info', port=443): Max retries exceeded with url: /cn.mp3 (Caused by SSLError(SSLCertVerificationError(1, \"[SSL: CERTIFICATE_VERIFY_FAILED] certificate verify failed: Hostname mismatch, certificate is not valid for 'nationalanthems.info'. (_ssl.c:1028)\")))\n",
      "Trying URL: https://nationalanthems.info/mp3/cn.mp3\n",
      "Error trying https://nationalanthems.info/mp3/cn.mp3: HTTPSConnectionPool(host='nationalanthems.info', port=443): Max retries exceeded with url: /mp3/cn.mp3 (Caused by SSLError(SSLCertVerificationError(1, \"[SSL: CERTIFICATE_VERIFY_FAILED] certificate verify failed: Hostname mismatch, certificate is not valid for 'nationalanthems.info'. (_ssl.c:1028)\")))\n",
      "Trying URL: https://nationalanthems.info/mp3/CN.mp3\n",
      "Error trying https://nationalanthems.info/mp3/CN.mp3: HTTPSConnectionPool(host='nationalanthems.info', port=443): Max retries exceeded with url: /mp3/CN.mp3 (Caused by SSLError(SSLCertVerificationError(1, \"[SSL: CERTIFICATE_VERIFY_FAILED] certificate verify failed: Hostname mismatch, certificate is not valid for 'nationalanthems.info'. (_ssl.c:1028)\")))\n",
      "Trying URL: https://nationalanthems.info/audio/cn.mp3\n",
      "Error trying https://nationalanthems.info/audio/cn.mp3: HTTPSConnectionPool(host='nationalanthems.info', port=443): Max retries exceeded with url: /audio/cn.mp3 (Caused by SSLError(SSLCertVerificationError(1, \"[SSL: CERTIFICATE_VERIFY_FAILED] certificate verify failed: Hostname mismatch, certificate is not valid for 'nationalanthems.info'. (_ssl.c:1028)\")))\n",
      "Trying URL: https://nationalanthems.info/sounds/cn.mp3\n",
      "Error trying https://nationalanthems.info/sounds/cn.mp3: HTTPSConnectionPool(host='nationalanthems.info', port=443): Max retries exceeded with url: /sounds/cn.mp3 (Caused by SSLError(SSLCertVerificationError(1, \"[SSL: CERTIFICATE_VERIFY_FAILED] certificate verify failed: Hostname mismatch, certificate is not valid for 'nationalanthems.info'. (_ssl.c:1028)\")))\n",
      "All URL patterns failed for cn\n"
     ]
    },
    {
     "name": "stderr",
     "output_type": "stream",
     "text": [
      "Downloading anthems:  48%|████▊     | 48/100 [08:27<02:33,  2.96s/it]"
     ]
    },
    {
     "name": "stdout",
     "output_type": "stream",
     "text": [
      "Trying URL: https://nationalanthems.info/co.mp3\n",
      "Error trying https://nationalanthems.info/co.mp3: HTTPSConnectionPool(host='nationalanthems.info', port=443): Max retries exceeded with url: /co.mp3 (Caused by SSLError(SSLCertVerificationError(1, \"[SSL: CERTIFICATE_VERIFY_FAILED] certificate verify failed: Hostname mismatch, certificate is not valid for 'nationalanthems.info'. (_ssl.c:1028)\")))\n",
      "Trying URL: https://nationalanthems.info/mp3/co.mp3\n",
      "Error trying https://nationalanthems.info/mp3/co.mp3: HTTPSConnectionPool(host='nationalanthems.info', port=443): Max retries exceeded with url: /mp3/co.mp3 (Caused by SSLError(SSLCertVerificationError(1, \"[SSL: CERTIFICATE_VERIFY_FAILED] certificate verify failed: Hostname mismatch, certificate is not valid for 'nationalanthems.info'. (_ssl.c:1028)\")))\n",
      "Trying URL: https://nationalanthems.info/mp3/CO.mp3\n",
      "Error trying https://nationalanthems.info/mp3/CO.mp3: HTTPSConnectionPool(host='nationalanthems.info', port=443): Max retries exceeded with url: /mp3/CO.mp3 (Caused by SSLError(SSLCertVerificationError(1, \"[SSL: CERTIFICATE_VERIFY_FAILED] certificate verify failed: Hostname mismatch, certificate is not valid for 'nationalanthems.info'. (_ssl.c:1028)\")))\n",
      "Trying URL: https://nationalanthems.info/audio/co.mp3\n",
      "Error trying https://nationalanthems.info/audio/co.mp3: HTTPSConnectionPool(host='nationalanthems.info', port=443): Max retries exceeded with url: /audio/co.mp3 (Caused by SSLError(SSLCertVerificationError(1, \"[SSL: CERTIFICATE_VERIFY_FAILED] certificate verify failed: Hostname mismatch, certificate is not valid for 'nationalanthems.info'. (_ssl.c:1028)\")))\n",
      "Trying URL: https://nationalanthems.info/sounds/co.mp3\n",
      "Error trying https://nationalanthems.info/sounds/co.mp3: HTTPSConnectionPool(host='nationalanthems.info', port=443): Max retries exceeded with url: /sounds/co.mp3 (Caused by SSLError(SSLCertVerificationError(1, \"[SSL: CERTIFICATE_VERIFY_FAILED] certificate verify failed: Hostname mismatch, certificate is not valid for 'nationalanthems.info'. (_ssl.c:1028)\")))\n",
      "All URL patterns failed for co\n"
     ]
    },
    {
     "name": "stderr",
     "output_type": "stream",
     "text": [
      "Downloading anthems:  49%|████▉     | 49/100 [08:29<02:17,  2.70s/it]"
     ]
    },
    {
     "name": "stdout",
     "output_type": "stream",
     "text": [
      "Trying URL: https://nationalanthems.info/cr.mp3\n",
      "Error trying https://nationalanthems.info/cr.mp3: HTTPSConnectionPool(host='nationalanthems.info', port=443): Max retries exceeded with url: /cr.mp3 (Caused by SSLError(SSLCertVerificationError(1, \"[SSL: CERTIFICATE_VERIFY_FAILED] certificate verify failed: Hostname mismatch, certificate is not valid for 'nationalanthems.info'. (_ssl.c:1028)\")))\n",
      "Trying URL: https://nationalanthems.info/mp3/cr.mp3\n",
      "Error trying https://nationalanthems.info/mp3/cr.mp3: HTTPSConnectionPool(host='nationalanthems.info', port=443): Max retries exceeded with url: /mp3/cr.mp3 (Caused by SSLError(SSLCertVerificationError(1, \"[SSL: CERTIFICATE_VERIFY_FAILED] certificate verify failed: Hostname mismatch, certificate is not valid for 'nationalanthems.info'. (_ssl.c:1028)\")))\n",
      "Trying URL: https://nationalanthems.info/mp3/CR.mp3\n",
      "Error trying https://nationalanthems.info/mp3/CR.mp3: HTTPSConnectionPool(host='nationalanthems.info', port=443): Max retries exceeded with url: /mp3/CR.mp3 (Caused by SSLError(SSLCertVerificationError(1, \"[SSL: CERTIFICATE_VERIFY_FAILED] certificate verify failed: Hostname mismatch, certificate is not valid for 'nationalanthems.info'. (_ssl.c:1028)\")))\n",
      "Trying URL: https://nationalanthems.info/audio/cr.mp3\n",
      "Error trying https://nationalanthems.info/audio/cr.mp3: HTTPSConnectionPool(host='nationalanthems.info', port=443): Max retries exceeded with url: /audio/cr.mp3 (Caused by SSLError(SSLCertVerificationError(1, \"[SSL: CERTIFICATE_VERIFY_FAILED] certificate verify failed: Hostname mismatch, certificate is not valid for 'nationalanthems.info'. (_ssl.c:1028)\")))\n",
      "Trying URL: https://nationalanthems.info/sounds/cr.mp3\n",
      "Error trying https://nationalanthems.info/sounds/cr.mp3: HTTPSConnectionPool(host='nationalanthems.info', port=443): Max retries exceeded with url: /sounds/cr.mp3 (Caused by SSLError(SSLCertVerificationError(1, \"[SSL: CERTIFICATE_VERIFY_FAILED] certificate verify failed: Hostname mismatch, certificate is not valid for 'nationalanthems.info'. (_ssl.c:1028)\")))\n",
      "All URL patterns failed for cr\n"
     ]
    },
    {
     "name": "stderr",
     "output_type": "stream",
     "text": [
      "Downloading anthems:  50%|█████     | 50/100 [08:31<02:06,  2.53s/it]"
     ]
    },
    {
     "name": "stdout",
     "output_type": "stream",
     "text": [
      "Trying URL: https://nationalanthems.info/cu.mp3\n",
      "Error trying https://nationalanthems.info/cu.mp3: HTTPSConnectionPool(host='nationalanthems.info', port=443): Max retries exceeded with url: /cu.mp3 (Caused by SSLError(SSLCertVerificationError(1, \"[SSL: CERTIFICATE_VERIFY_FAILED] certificate verify failed: Hostname mismatch, certificate is not valid for 'nationalanthems.info'. (_ssl.c:1028)\")))\n",
      "Trying URL: https://nationalanthems.info/mp3/cu.mp3\n",
      "Error trying https://nationalanthems.info/mp3/cu.mp3: HTTPSConnectionPool(host='nationalanthems.info', port=443): Max retries exceeded with url: /mp3/cu.mp3 (Caused by SSLError(SSLCertVerificationError(1, \"[SSL: CERTIFICATE_VERIFY_FAILED] certificate verify failed: Hostname mismatch, certificate is not valid for 'nationalanthems.info'. (_ssl.c:1028)\")))\n",
      "Trying URL: https://nationalanthems.info/mp3/CU.mp3\n",
      "Error trying https://nationalanthems.info/mp3/CU.mp3: HTTPSConnectionPool(host='nationalanthems.info', port=443): Max retries exceeded with url: /mp3/CU.mp3 (Caused by SSLError(SSLCertVerificationError(1, \"[SSL: CERTIFICATE_VERIFY_FAILED] certificate verify failed: Hostname mismatch, certificate is not valid for 'nationalanthems.info'. (_ssl.c:1028)\")))\n",
      "Trying URL: https://nationalanthems.info/audio/cu.mp3\n",
      "Error trying https://nationalanthems.info/audio/cu.mp3: HTTPSConnectionPool(host='nationalanthems.info', port=443): Max retries exceeded with url: /audio/cu.mp3 (Caused by SSLError(SSLCertVerificationError(1, \"[SSL: CERTIFICATE_VERIFY_FAILED] certificate verify failed: Hostname mismatch, certificate is not valid for 'nationalanthems.info'. (_ssl.c:1028)\")))\n",
      "Trying URL: https://nationalanthems.info/sounds/cu.mp3\n",
      "Error trying https://nationalanthems.info/sounds/cu.mp3: HTTPSConnectionPool(host='nationalanthems.info', port=443): Max retries exceeded with url: /sounds/cu.mp3 (Caused by SSLError(SSLCertVerificationError(1, \"[SSL: CERTIFICATE_VERIFY_FAILED] certificate verify failed: Hostname mismatch, certificate is not valid for 'nationalanthems.info'. (_ssl.c:1028)\")))\n",
      "All URL patterns failed for cu\n"
     ]
    },
    {
     "name": "stderr",
     "output_type": "stream",
     "text": [
      "Downloading anthems:  51%|█████     | 51/100 [08:34<01:58,  2.42s/it]"
     ]
    },
    {
     "name": "stdout",
     "output_type": "stream",
     "text": [
      "Trying URL: https://nationalanthems.info/cv.mp3\n",
      "Error trying https://nationalanthems.info/cv.mp3: HTTPSConnectionPool(host='nationalanthems.info', port=443): Max retries exceeded with url: /cv.mp3 (Caused by SSLError(SSLCertVerificationError(1, \"[SSL: CERTIFICATE_VERIFY_FAILED] certificate verify failed: Hostname mismatch, certificate is not valid for 'nationalanthems.info'. (_ssl.c:1028)\")))\n",
      "Trying URL: https://nationalanthems.info/mp3/cv.mp3\n",
      "Error trying https://nationalanthems.info/mp3/cv.mp3: HTTPSConnectionPool(host='nationalanthems.info', port=443): Max retries exceeded with url: /mp3/cv.mp3 (Caused by SSLError(SSLCertVerificationError(1, \"[SSL: CERTIFICATE_VERIFY_FAILED] certificate verify failed: Hostname mismatch, certificate is not valid for 'nationalanthems.info'. (_ssl.c:1028)\")))\n",
      "Trying URL: https://nationalanthems.info/mp3/CV.mp3\n",
      "Error trying https://nationalanthems.info/mp3/CV.mp3: HTTPSConnectionPool(host='nationalanthems.info', port=443): Max retries exceeded with url: /mp3/CV.mp3 (Caused by SSLError(SSLCertVerificationError(1, \"[SSL: CERTIFICATE_VERIFY_FAILED] certificate verify failed: Hostname mismatch, certificate is not valid for 'nationalanthems.info'. (_ssl.c:1028)\")))\n",
      "Trying URL: https://nationalanthems.info/audio/cv.mp3\n",
      "Error trying https://nationalanthems.info/audio/cv.mp3: HTTPSConnectionPool(host='nationalanthems.info', port=443): Max retries exceeded with url: /audio/cv.mp3 (Caused by SSLError(SSLCertVerificationError(1, \"[SSL: CERTIFICATE_VERIFY_FAILED] certificate verify failed: Hostname mismatch, certificate is not valid for 'nationalanthems.info'. (_ssl.c:1028)\")))\n",
      "Trying URL: https://nationalanthems.info/sounds/cv.mp3\n",
      "Error trying https://nationalanthems.info/sounds/cv.mp3: HTTPSConnectionPool(host='nationalanthems.info', port=443): Max retries exceeded with url: /sounds/cv.mp3 (Caused by SSLError(SSLCertVerificationError(1, \"[SSL: CERTIFICATE_VERIFY_FAILED] certificate verify failed: Hostname mismatch, certificate is not valid for 'nationalanthems.info'. (_ssl.c:1028)\")))\n",
      "All URL patterns failed for cv\n"
     ]
    },
    {
     "name": "stderr",
     "output_type": "stream",
     "text": [
      "Downloading anthems:  52%|█████▏    | 52/100 [08:36<01:52,  2.34s/it]"
     ]
    },
    {
     "name": "stdout",
     "output_type": "stream",
     "text": [
      "Trying URL: https://nationalanthems.info/cw.mp3\n",
      "Error trying https://nationalanthems.info/cw.mp3: HTTPSConnectionPool(host='nationalanthems.info', port=443): Max retries exceeded with url: /cw.mp3 (Caused by SSLError(SSLCertVerificationError(1, \"[SSL: CERTIFICATE_VERIFY_FAILED] certificate verify failed: Hostname mismatch, certificate is not valid for 'nationalanthems.info'. (_ssl.c:1028)\")))\n",
      "Trying URL: https://nationalanthems.info/mp3/cw.mp3\n",
      "Error trying https://nationalanthems.info/mp3/cw.mp3: HTTPSConnectionPool(host='nationalanthems.info', port=443): Max retries exceeded with url: /mp3/cw.mp3 (Caused by SSLError(SSLCertVerificationError(1, \"[SSL: CERTIFICATE_VERIFY_FAILED] certificate verify failed: Hostname mismatch, certificate is not valid for 'nationalanthems.info'. (_ssl.c:1028)\")))\n",
      "Trying URL: https://nationalanthems.info/mp3/CW.mp3\n",
      "Error trying https://nationalanthems.info/mp3/CW.mp3: HTTPSConnectionPool(host='nationalanthems.info', port=443): Max retries exceeded with url: /mp3/CW.mp3 (Caused by SSLError(SSLCertVerificationError(1, \"[SSL: CERTIFICATE_VERIFY_FAILED] certificate verify failed: Hostname mismatch, certificate is not valid for 'nationalanthems.info'. (_ssl.c:1028)\")))\n",
      "Trying URL: https://nationalanthems.info/audio/cw.mp3\n",
      "Error trying https://nationalanthems.info/audio/cw.mp3: HTTPSConnectionPool(host='nationalanthems.info', port=443): Max retries exceeded with url: /audio/cw.mp3 (Caused by SSLError(SSLCertVerificationError(1, \"[SSL: CERTIFICATE_VERIFY_FAILED] certificate verify failed: Hostname mismatch, certificate is not valid for 'nationalanthems.info'. (_ssl.c:1028)\")))\n",
      "Trying URL: https://nationalanthems.info/sounds/cw.mp3\n",
      "Error trying https://nationalanthems.info/sounds/cw.mp3: HTTPSConnectionPool(host='nationalanthems.info', port=443): Max retries exceeded with url: /sounds/cw.mp3 (Caused by SSLError(SSLCertVerificationError(1, \"[SSL: CERTIFICATE_VERIFY_FAILED] certificate verify failed: Hostname mismatch, certificate is not valid for 'nationalanthems.info'. (_ssl.c:1028)\")))\n",
      "All URL patterns failed for cw\n"
     ]
    },
    {
     "name": "stderr",
     "output_type": "stream",
     "text": [
      "Downloading anthems:  53%|█████▎    | 53/100 [08:39<02:01,  2.59s/it]"
     ]
    },
    {
     "name": "stdout",
     "output_type": "stream",
     "text": [
      "Trying URL: https://nationalanthems.info/cx.mp3\n",
      "Error trying https://nationalanthems.info/cx.mp3: HTTPSConnectionPool(host='nationalanthems.info', port=443): Max retries exceeded with url: /cx.mp3 (Caused by SSLError(SSLCertVerificationError(1, \"[SSL: CERTIFICATE_VERIFY_FAILED] certificate verify failed: Hostname mismatch, certificate is not valid for 'nationalanthems.info'. (_ssl.c:1028)\")))\n",
      "Trying URL: https://nationalanthems.info/mp3/cx.mp3\n",
      "Error trying https://nationalanthems.info/mp3/cx.mp3: HTTPSConnectionPool(host='nationalanthems.info', port=443): Max retries exceeded with url: /mp3/cx.mp3 (Caused by SSLError(SSLCertVerificationError(1, \"[SSL: CERTIFICATE_VERIFY_FAILED] certificate verify failed: Hostname mismatch, certificate is not valid for 'nationalanthems.info'. (_ssl.c:1028)\")))\n",
      "Trying URL: https://nationalanthems.info/mp3/CX.mp3\n",
      "Error trying https://nationalanthems.info/mp3/CX.mp3: HTTPSConnectionPool(host='nationalanthems.info', port=443): Max retries exceeded with url: /mp3/CX.mp3 (Caused by SSLError(SSLCertVerificationError(1, \"[SSL: CERTIFICATE_VERIFY_FAILED] certificate verify failed: Hostname mismatch, certificate is not valid for 'nationalanthems.info'. (_ssl.c:1028)\")))\n",
      "Trying URL: https://nationalanthems.info/audio/cx.mp3\n",
      "Error trying https://nationalanthems.info/audio/cx.mp3: HTTPSConnectionPool(host='nationalanthems.info', port=443): Max retries exceeded with url: /audio/cx.mp3 (Caused by SSLError(SSLCertVerificationError(1, \"[SSL: CERTIFICATE_VERIFY_FAILED] certificate verify failed: Hostname mismatch, certificate is not valid for 'nationalanthems.info'. (_ssl.c:1028)\")))\n",
      "Trying URL: https://nationalanthems.info/sounds/cx.mp3\n",
      "Error trying https://nationalanthems.info/sounds/cx.mp3: HTTPSConnectionPool(host='nationalanthems.info', port=443): Max retries exceeded with url: /sounds/cx.mp3 (Caused by SSLError(SSLCertVerificationError(1, \"[SSL: CERTIFICATE_VERIFY_FAILED] certificate verify failed: Hostname mismatch, certificate is not valid for 'nationalanthems.info'. (_ssl.c:1028)\")))\n",
      "All URL patterns failed for cx\n"
     ]
    },
    {
     "name": "stderr",
     "output_type": "stream",
     "text": [
      "Downloading anthems:  54%|█████▍    | 54/100 [08:41<01:55,  2.50s/it]"
     ]
    },
    {
     "name": "stdout",
     "output_type": "stream",
     "text": [
      "Trying URL: https://nationalanthems.info/cy.mp3\n",
      "Error trying https://nationalanthems.info/cy.mp3: HTTPSConnectionPool(host='nationalanthems.info', port=443): Max retries exceeded with url: /cy.mp3 (Caused by SSLError(SSLCertVerificationError(1, \"[SSL: CERTIFICATE_VERIFY_FAILED] certificate verify failed: Hostname mismatch, certificate is not valid for 'nationalanthems.info'. (_ssl.c:1028)\")))\n",
      "Trying URL: https://nationalanthems.info/mp3/cy.mp3\n",
      "Error trying https://nationalanthems.info/mp3/cy.mp3: HTTPSConnectionPool(host='nationalanthems.info', port=443): Max retries exceeded with url: /mp3/cy.mp3 (Caused by SSLError(SSLCertVerificationError(1, \"[SSL: CERTIFICATE_VERIFY_FAILED] certificate verify failed: Hostname mismatch, certificate is not valid for 'nationalanthems.info'. (_ssl.c:1028)\")))\n",
      "Trying URL: https://nationalanthems.info/mp3/CY.mp3\n",
      "Error trying https://nationalanthems.info/mp3/CY.mp3: HTTPSConnectionPool(host='nationalanthems.info', port=443): Max retries exceeded with url: /mp3/CY.mp3 (Caused by SSLError(SSLCertVerificationError(1, \"[SSL: CERTIFICATE_VERIFY_FAILED] certificate verify failed: Hostname mismatch, certificate is not valid for 'nationalanthems.info'. (_ssl.c:1028)\")))\n",
      "Trying URL: https://nationalanthems.info/audio/cy.mp3\n",
      "Error trying https://nationalanthems.info/audio/cy.mp3: HTTPSConnectionPool(host='nationalanthems.info', port=443): Max retries exceeded with url: /audio/cy.mp3 (Caused by SSLError(SSLCertVerificationError(1, \"[SSL: CERTIFICATE_VERIFY_FAILED] certificate verify failed: Hostname mismatch, certificate is not valid for 'nationalanthems.info'. (_ssl.c:1028)\")))\n",
      "Trying URL: https://nationalanthems.info/sounds/cy.mp3\n",
      "Error trying https://nationalanthems.info/sounds/cy.mp3: HTTPSConnectionPool(host='nationalanthems.info', port=443): Max retries exceeded with url: /sounds/cy.mp3 (Caused by SSLError(SSLCertVerificationError(1, \"[SSL: CERTIFICATE_VERIFY_FAILED] certificate verify failed: Hostname mismatch, certificate is not valid for 'nationalanthems.info'. (_ssl.c:1028)\")))\n",
      "All URL patterns failed for cy\n"
     ]
    },
    {
     "name": "stderr",
     "output_type": "stream",
     "text": [
      "Downloading anthems:  55%|█████▌    | 55/100 [08:43<01:49,  2.44s/it]"
     ]
    },
    {
     "name": "stdout",
     "output_type": "stream",
     "text": [
      "Trying URL: https://nationalanthems.info/cz.mp3\n",
      "Found content: audio/mpeg, Size: 1037005 bytes\n",
      "Successfully downloaded anthem for cz\n"
     ]
    },
    {
     "name": "stderr",
     "output_type": "stream",
     "text": [
      "Downloading anthems:  56%|█████▌    | 56/100 [08:52<03:10,  4.32s/it]"
     ]
    },
    {
     "name": "stdout",
     "output_type": "stream",
     "text": [
      "Trying URL: https://nationalanthems.info/de.mp3\n",
      "Found content: audio/mpeg, Size: 1186291 bytes\n",
      "Successfully downloaded anthem for de\n"
     ]
    },
    {
     "name": "stderr",
     "output_type": "stream",
     "text": [
      "Downloading anthems:  57%|█████▋    | 57/100 [09:02<04:18,  6.00s/it]"
     ]
    },
    {
     "name": "stdout",
     "output_type": "stream",
     "text": [
      "Trying URL: https://nationalanthems.info/dj.mp3\n",
      "Found content: audio/mpeg, Size: 766372 bytes\n",
      "Successfully downloaded anthem for dj\n"
     ]
    },
    {
     "name": "stderr",
     "output_type": "stream",
     "text": [
      "Downloading anthems:  58%|█████▊    | 58/100 [09:10<04:36,  6.59s/it]"
     ]
    },
    {
     "name": "stdout",
     "output_type": "stream",
     "text": [
      "Trying URL: https://nationalanthems.info/dk.mp3\n",
      "Found content: audio/mpeg, Size: 1272193 bytes\n",
      "Successfully downloaded anthem for dk\n"
     ]
    },
    {
     "name": "stderr",
     "output_type": "stream",
     "text": [
      "Downloading anthems:  59%|█████▉    | 59/100 [09:21<05:21,  7.84s/it]"
     ]
    },
    {
     "name": "stdout",
     "output_type": "stream",
     "text": [
      "Trying URL: https://nationalanthems.info/dm.mp3\n",
      "Found content: audio/mpeg, Size: 784697 bytes\n",
      "Successfully downloaded anthem for dm\n"
     ]
    },
    {
     "name": "stderr",
     "output_type": "stream",
     "text": [
      "Downloading anthems:  60%|██████    | 60/100 [09:29<05:15,  7.89s/it]"
     ]
    },
    {
     "name": "stdout",
     "output_type": "stream",
     "text": [
      "Trying URL: https://nationalanthems.info/do.mp3\n",
      "Found content: audio/mpeg, Size: 1549081 bytes\n",
      "Successfully downloaded anthem for do\n"
     ]
    },
    {
     "name": "stderr",
     "output_type": "stream",
     "text": [
      "Downloading anthems:  61%|██████    | 61/100 [09:39<05:31,  8.51s/it]"
     ]
    },
    {
     "name": "stdout",
     "output_type": "stream",
     "text": [
      "Trying URL: https://nationalanthems.info/dz.mp3\n",
      "Found content: audio/mpeg, Size: 2504327 bytes\n",
      "Successfully downloaded anthem for dz\n"
     ]
    },
    {
     "name": "stderr",
     "output_type": "stream",
     "text": [
      "Downloading anthems:  62%|██████▏   | 62/100 [09:53<06:31, 10.29s/it]"
     ]
    },
    {
     "name": "stdout",
     "output_type": "stream",
     "text": [
      "Trying URL: https://nationalanthems.info/ec.mp3\n",
      "Found content: audio/mpeg, Size: 3176448 bytes\n",
      "Successfully downloaded anthem for ec\n"
     ]
    },
    {
     "name": "stderr",
     "output_type": "stream",
     "text": [
      "Downloading anthems:  63%|██████▎   | 63/100 [10:12<07:53, 12.78s/it]"
     ]
    },
    {
     "name": "stdout",
     "output_type": "stream",
     "text": [
      "Trying URL: https://nationalanthems.info/ee.mp3\n",
      "Found content: audio/mpeg, Size: 511168 bytes\n",
      "Successfully downloaded anthem for ee\n"
     ]
    },
    {
     "name": "stderr",
     "output_type": "stream",
     "text": [
      "Downloading anthems:  64%|██████▍   | 64/100 [10:18<06:29, 10.81s/it]"
     ]
    },
    {
     "name": "stdout",
     "output_type": "stream",
     "text": [
      "Trying URL: https://nationalanthems.info/eg.mp3\n",
      "Found content: audio/mpeg, Size: 1373941 bytes\n",
      "Successfully downloaded anthem for eg\n"
     ]
    },
    {
     "name": "stderr",
     "output_type": "stream",
     "text": [
      "Downloading anthems:  65%|██████▌   | 65/100 [10:28<06:10, 10.59s/it]"
     ]
    },
    {
     "name": "stdout",
     "output_type": "stream",
     "text": [
      "Trying URL: https://nationalanthems.info/eh.mp3\n",
      "Found content: audio/mpeg, Size: 1280763 bytes\n",
      "Successfully downloaded anthem for eh\n"
     ]
    },
    {
     "name": "stderr",
     "output_type": "stream",
     "text": [
      "Downloading anthems:  66%|██████▌   | 66/100 [10:41<06:25, 11.33s/it]"
     ]
    },
    {
     "name": "stdout",
     "output_type": "stream",
     "text": [
      "Trying URL: https://nationalanthems.info/er.mp3\n",
      "Found content: audio/mpeg, Size: 3828422 bytes\n",
      "Successfully downloaded anthem for er\n"
     ]
    },
    {
     "name": "stderr",
     "output_type": "stream",
     "text": [
      "Downloading anthems:  67%|██████▋   | 67/100 [10:55<06:43, 12.22s/it]"
     ]
    },
    {
     "name": "stdout",
     "output_type": "stream",
     "text": [
      "Trying URL: https://nationalanthems.info/es.mp3\n",
      "Found content: audio/mpeg, Size: 999424 bytes\n",
      "Successfully downloaded anthem for es\n"
     ]
    },
    {
     "name": "stderr",
     "output_type": "stream",
     "text": [
      "Downloading anthems:  68%|██████▊   | 68/100 [11:02<05:39, 10.60s/it]"
     ]
    },
    {
     "name": "stdout",
     "output_type": "stream",
     "text": [
      "Trying URL: https://nationalanthems.info/et.mp3\n",
      "Found content: audio/mpeg, Size: 1346419 bytes\n",
      "Successfully downloaded anthem for et\n"
     ]
    },
    {
     "name": "stderr",
     "output_type": "stream",
     "text": [
      "Downloading anthems:  69%|██████▉   | 69/100 [11:10<04:57,  9.60s/it]"
     ]
    },
    {
     "name": "stdout",
     "output_type": "stream",
     "text": [
      "Trying URL: https://nationalanthems.info/eu.mp3\n",
      "Found content: audio/mpeg, Size: 1222444 bytes\n",
      "Successfully downloaded anthem for eu\n"
     ]
    },
    {
     "name": "stderr",
     "output_type": "stream",
     "text": [
      "Downloading anthems:  70%|███████   | 70/100 [11:16<04:18,  8.62s/it]"
     ]
    },
    {
     "name": "stdout",
     "output_type": "stream",
     "text": [
      "Trying URL: https://nationalanthems.info/fi.mp3\n",
      "Found content: audio/mpeg, Size: 745105 bytes\n",
      "Successfully downloaded anthem for fi\n"
     ]
    },
    {
     "name": "stderr",
     "output_type": "stream",
     "text": [
      "Downloading anthems:  71%|███████   | 71/100 [11:22<03:48,  7.88s/it]"
     ]
    },
    {
     "name": "stdout",
     "output_type": "stream",
     "text": [
      "Trying URL: https://nationalanthems.info/fj.mp3\n",
      "Found content: audio/mpeg, Size: 1379779 bytes\n",
      "Successfully downloaded anthem for fj\n"
     ]
    },
    {
     "name": "stderr",
     "output_type": "stream",
     "text": [
      "Downloading anthems:  72%|███████▏  | 72/100 [11:30<03:43,  7.97s/it]"
     ]
    },
    {
     "name": "stdout",
     "output_type": "stream",
     "text": [
      "Trying URL: https://nationalanthems.info/fk.mp3\n",
      "Found content: audio/mpeg, Size: 872448 bytes\n",
      "Successfully downloaded anthem for fk\n"
     ]
    },
    {
     "name": "stderr",
     "output_type": "stream",
     "text": [
      "Downloading anthems:  73%|███████▎  | 73/100 [11:38<03:30,  7.81s/it]"
     ]
    },
    {
     "name": "stdout",
     "output_type": "stream",
     "text": [
      "Trying URL: https://nationalanthems.info/fm.mp3\n",
      "Found content: audio/mpeg, Size: 723836 bytes\n",
      "Successfully downloaded anthem for fm\n"
     ]
    },
    {
     "name": "stderr",
     "output_type": "stream",
     "text": [
      "Downloading anthems:  74%|███████▍  | 74/100 [11:43<03:01,  7.00s/it]"
     ]
    },
    {
     "name": "stdout",
     "output_type": "stream",
     "text": [
      "Trying URL: https://nationalanthems.info/fo.mp3\n",
      "Found content: audio/mpeg, Size: 1036126 bytes\n",
      "Successfully downloaded anthem for fo\n"
     ]
    },
    {
     "name": "stderr",
     "output_type": "stream",
     "text": [
      "Downloading anthems:  75%|███████▌  | 75/100 [11:50<02:57,  7.10s/it]"
     ]
    },
    {
     "name": "stdout",
     "output_type": "stream",
     "text": [
      "Trying URL: https://nationalanthems.info/fr.mp3\n",
      "Found content: audio/mpeg, Size: 1269691 bytes\n",
      "Successfully downloaded anthem for fr\n"
     ]
    },
    {
     "name": "stderr",
     "output_type": "stream",
     "text": [
      "Downloading anthems:  76%|███████▌  | 76/100 [11:57<02:49,  7.06s/it]"
     ]
    },
    {
     "name": "stdout",
     "output_type": "stream",
     "text": [
      "Trying URL: https://nationalanthems.info/ga.mp3\n",
      "Found content: audio/mpeg, Size: 1681366 bytes\n",
      "Successfully downloaded anthem for ga\n"
     ]
    },
    {
     "name": "stderr",
     "output_type": "stream",
     "text": [
      "Downloading anthems:  77%|███████▋  | 77/100 [12:05<02:47,  7.29s/it]"
     ]
    },
    {
     "name": "stdout",
     "output_type": "stream",
     "text": [
      "Trying URL: https://nationalanthems.info/gb-eng.mp3\n",
      "Failed with status code 404 for URL https://nationalanthems.info/gb-eng.mp3\n",
      "Trying URL: https://nationalanthems.info/mp3/gb-eng.mp3\n",
      "Failed with status code 404 for URL https://nationalanthems.info/mp3/gb-eng.mp3\n",
      "Trying URL: https://nationalanthems.info/mp3/GB-ENG.mp3\n",
      "Failed with status code 404 for URL https://nationalanthems.info/mp3/GB-ENG.mp3\n",
      "Trying URL: https://nationalanthems.info/audio/gb-eng.mp3\n",
      "Failed with status code 404 for URL https://nationalanthems.info/audio/gb-eng.mp3\n",
      "Trying URL: https://nationalanthems.info/sounds/gb-eng.mp3\n",
      "Failed with status code 404 for URL https://nationalanthems.info/sounds/gb-eng.mp3\n",
      "All URL patterns failed for gb-eng\n"
     ]
    },
    {
     "name": "stderr",
     "output_type": "stream",
     "text": [
      "Downloading anthems:  78%|███████▊  | 78/100 [12:17<03:15,  8.88s/it]"
     ]
    },
    {
     "name": "stdout",
     "output_type": "stream",
     "text": [
      "Trying URL: https://nationalanthems.info/gb-nir.mp3\n",
      "Failed with status code 404 for URL https://nationalanthems.info/gb-nir.mp3\n",
      "Trying URL: https://nationalanthems.info/mp3/gb-nir.mp3\n",
      "Failed with status code 404 for URL https://nationalanthems.info/mp3/gb-nir.mp3\n",
      "Trying URL: https://nationalanthems.info/mp3/GB-NIR.mp3\n",
      "Failed with status code 404 for URL https://nationalanthems.info/mp3/GB-NIR.mp3\n",
      "Trying URL: https://nationalanthems.info/audio/gb-nir.mp3\n",
      "Failed with status code 404 for URL https://nationalanthems.info/audio/gb-nir.mp3\n",
      "Trying URL: https://nationalanthems.info/sounds/gb-nir.mp3\n",
      "Failed with status code 404 for URL https://nationalanthems.info/sounds/gb-nir.mp3\n",
      "All URL patterns failed for gb-nir\n"
     ]
    },
    {
     "name": "stderr",
     "output_type": "stream",
     "text": [
      "Downloading anthems:  79%|███████▉  | 79/100 [12:30<03:31, 10.08s/it]"
     ]
    },
    {
     "name": "stdout",
     "output_type": "stream",
     "text": [
      "Trying URL: https://nationalanthems.info/gb-sct.mp3\n",
      "Failed with status code 404 for URL https://nationalanthems.info/gb-sct.mp3\n",
      "Trying URL: https://nationalanthems.info/mp3/gb-sct.mp3\n",
      "Failed with status code 404 for URL https://nationalanthems.info/mp3/gb-sct.mp3\n",
      "Trying URL: https://nationalanthems.info/mp3/GB-SCT.mp3\n",
      "Failed with status code 404 for URL https://nationalanthems.info/mp3/GB-SCT.mp3\n",
      "Trying URL: https://nationalanthems.info/audio/gb-sct.mp3\n",
      "Failed with status code 404 for URL https://nationalanthems.info/audio/gb-sct.mp3\n",
      "Trying URL: https://nationalanthems.info/sounds/gb-sct.mp3\n",
      "Failed with status code 404 for URL https://nationalanthems.info/sounds/gb-sct.mp3\n",
      "All URL patterns failed for gb-sct\n"
     ]
    },
    {
     "name": "stderr",
     "output_type": "stream",
     "text": [
      "Downloading anthems:  80%|████████  | 80/100 [12:44<03:42, 11.11s/it]"
     ]
    },
    {
     "name": "stdout",
     "output_type": "stream",
     "text": [
      "Trying URL: https://nationalanthems.info/gb-wls.mp3\n",
      "Failed with status code 404 for URL https://nationalanthems.info/gb-wls.mp3\n",
      "Trying URL: https://nationalanthems.info/mp3/gb-wls.mp3\n",
      "Failed with status code 404 for URL https://nationalanthems.info/mp3/gb-wls.mp3\n",
      "Trying URL: https://nationalanthems.info/mp3/GB-WLS.mp3\n",
      "Failed with status code 404 for URL https://nationalanthems.info/mp3/GB-WLS.mp3\n",
      "Trying URL: https://nationalanthems.info/audio/gb-wls.mp3\n",
      "Failed with status code 404 for URL https://nationalanthems.info/audio/gb-wls.mp3\n",
      "Trying URL: https://nationalanthems.info/sounds/gb-wls.mp3\n",
      "Failed with status code 404 for URL https://nationalanthems.info/sounds/gb-wls.mp3\n",
      "All URL patterns failed for gb-wls\n"
     ]
    },
    {
     "name": "stderr",
     "output_type": "stream",
     "text": [
      "Downloading anthems:  81%|████████  | 81/100 [12:55<03:33, 11.26s/it]"
     ]
    },
    {
     "name": "stdout",
     "output_type": "stream",
     "text": [
      "Trying URL: https://nationalanthems.info/gb.mp3\n",
      "Found content: audio/mpeg, Size: 1011151 bytes\n",
      "Successfully downloaded anthem for gb\n"
     ]
    },
    {
     "name": "stderr",
     "output_type": "stream",
     "text": [
      "Downloading anthems:  82%|████████▏ | 82/100 [13:03<03:00, 10.01s/it]"
     ]
    },
    {
     "name": "stdout",
     "output_type": "stream",
     "text": [
      "Trying URL: https://nationalanthems.info/gd.mp3\n",
      "Found content: audio/mpeg, Size: 1271751 bytes\n",
      "Successfully downloaded anthem for gd\n"
     ]
    },
    {
     "name": "stderr",
     "output_type": "stream",
     "text": [
      "Downloading anthems:  83%|████████▎ | 83/100 [13:09<02:34,  9.09s/it]"
     ]
    },
    {
     "name": "stdout",
     "output_type": "stream",
     "text": [
      "Trying URL: https://nationalanthems.info/ge.mp3\n",
      "Found content: audio/mpeg, Size: 2056192 bytes\n",
      "Successfully downloaded anthem for ge\n"
     ]
    },
    {
     "name": "stderr",
     "output_type": "stream",
     "text": [
      "Downloading anthems:  84%|████████▍ | 84/100 [13:19<02:29,  9.33s/it]"
     ]
    },
    {
     "name": "stdout",
     "output_type": "stream",
     "text": [
      "Trying URL: https://nationalanthems.info/gf.mp3\n",
      "Failed with status code 404 for URL https://nationalanthems.info/gf.mp3\n",
      "Trying URL: https://nationalanthems.info/mp3/gf.mp3\n",
      "Failed with status code 404 for URL https://nationalanthems.info/mp3/gf.mp3\n",
      "Trying URL: https://nationalanthems.info/mp3/GF.mp3\n",
      "Failed with status code 404 for URL https://nationalanthems.info/mp3/GF.mp3\n",
      "Trying URL: https://nationalanthems.info/audio/gf.mp3\n",
      "Failed with status code 404 for URL https://nationalanthems.info/audio/gf.mp3\n",
      "Trying URL: https://nationalanthems.info/sounds/gf.mp3\n",
      "Failed with status code 404 for URL https://nationalanthems.info/sounds/gf.mp3\n",
      "All URL patterns failed for gf\n"
     ]
    },
    {
     "name": "stderr",
     "output_type": "stream",
     "text": [
      "Downloading anthems:  85%|████████▌ | 85/100 [13:32<02:35, 10.35s/it]"
     ]
    },
    {
     "name": "stdout",
     "output_type": "stream",
     "text": [
      "Trying URL: https://nationalanthems.info/gg.mp3\n",
      "Found content: audio/mpeg, Size: 2262104 bytes\n",
      "Successfully downloaded anthem for gg\n"
     ]
    },
    {
     "name": "stderr",
     "output_type": "stream",
     "text": [
      "Downloading anthems:  86%|████████▌ | 86/100 [13:44<02:30, 10.75s/it]"
     ]
    },
    {
     "name": "stdout",
     "output_type": "stream",
     "text": [
      "Trying URL: https://nationalanthems.info/gh.mp3\n",
      "Found content: audio/mpeg, Size: 925278 bytes\n",
      "Successfully downloaded anthem for gh\n"
     ]
    },
    {
     "name": "stderr",
     "output_type": "stream",
     "text": [
      "Downloading anthems:  87%|████████▋ | 87/100 [13:51<02:05,  9.63s/it]"
     ]
    },
    {
     "name": "stdout",
     "output_type": "stream",
     "text": [
      "Trying URL: https://nationalanthems.info/gi.mp3\n",
      "Found content: audio/mpeg, Size: 2423905 bytes\n",
      "Successfully downloaded anthem for gi\n"
     ]
    },
    {
     "name": "stderr",
     "output_type": "stream",
     "text": [
      "Downloading anthems:  88%|████████▊ | 88/100 [14:02<02:01, 10.09s/it]"
     ]
    },
    {
     "name": "stdout",
     "output_type": "stream",
     "text": [
      "Trying URL: https://nationalanthems.info/gl.mp3\n",
      "Found content: audio/mpeg, Size: 787182 bytes\n",
      "Successfully downloaded anthem for gl\n"
     ]
    },
    {
     "name": "stderr",
     "output_type": "stream",
     "text": [
      "Downloading anthems:  89%|████████▉ | 89/100 [14:08<01:37,  8.87s/it]"
     ]
    },
    {
     "name": "stdout",
     "output_type": "stream",
     "text": [
      "Trying URL: https://nationalanthems.info/gm.mp3\n",
      "Found content: audio/mpeg, Size: 1278247 bytes\n",
      "Successfully downloaded anthem for gm\n"
     ]
    },
    {
     "name": "stderr",
     "output_type": "stream",
     "text": [
      "Downloading anthems:  90%|█████████ | 90/100 [14:17<01:29,  8.95s/it]"
     ]
    },
    {
     "name": "stdout",
     "output_type": "stream",
     "text": [
      "Trying URL: https://nationalanthems.info/gn.mp3\n",
      "Found content: audio/mpeg, Size: 1158353 bytes\n",
      "Successfully downloaded anthem for gn\n"
     ]
    },
    {
     "name": "stderr",
     "output_type": "stream",
     "text": [
      "Downloading anthems:  91%|█████████ | 91/100 [14:24<01:15,  8.36s/it]"
     ]
    },
    {
     "name": "stdout",
     "output_type": "stream",
     "text": [
      "Trying URL: https://nationalanthems.info/gp.mp3\n",
      "Failed with status code 404 for URL https://nationalanthems.info/gp.mp3\n",
      "Trying URL: https://nationalanthems.info/mp3/gp.mp3\n",
      "Failed with status code 404 for URL https://nationalanthems.info/mp3/gp.mp3\n",
      "Trying URL: https://nationalanthems.info/mp3/GP.mp3\n",
      "Failed with status code 404 for URL https://nationalanthems.info/mp3/GP.mp3\n",
      "Trying URL: https://nationalanthems.info/audio/gp.mp3\n",
      "Failed with status code 404 for URL https://nationalanthems.info/audio/gp.mp3\n",
      "Trying URL: https://nationalanthems.info/sounds/gp.mp3\n",
      "Failed with status code 404 for URL https://nationalanthems.info/sounds/gp.mp3\n",
      "All URL patterns failed for gp\n"
     ]
    },
    {
     "name": "stderr",
     "output_type": "stream",
     "text": [
      "Downloading anthems:  92%|█████████▏| 92/100 [14:38<01:19,  9.93s/it]"
     ]
    },
    {
     "name": "stdout",
     "output_type": "stream",
     "text": [
      "Trying URL: https://nationalanthems.info/gq.mp3\n",
      "Found content: audio/mpeg, Size: 4608216 bytes\n",
      "Successfully downloaded anthem for gq\n"
     ]
    },
    {
     "name": "stderr",
     "output_type": "stream",
     "text": [
      "Downloading anthems:  93%|█████████▎| 93/100 [14:57<01:29, 12.75s/it]"
     ]
    },
    {
     "name": "stdout",
     "output_type": "stream",
     "text": [
      "Trying URL: https://nationalanthems.info/gr.mp3\n",
      "Found content: audio/mpeg, Size: 727591 bytes\n",
      "Successfully downloaded anthem for gr\n"
     ]
    },
    {
     "name": "stderr",
     "output_type": "stream",
     "text": [
      "Downloading anthems:  94%|█████████▍| 94/100 [15:02<01:03, 10.56s/it]"
     ]
    },
    {
     "name": "stdout",
     "output_type": "stream",
     "text": [
      "Trying URL: https://nationalanthems.info/gs.mp3\n",
      "Failed with status code 404 for URL https://nationalanthems.info/gs.mp3\n",
      "Trying URL: https://nationalanthems.info/mp3/gs.mp3\n",
      "Failed with status code 404 for URL https://nationalanthems.info/mp3/gs.mp3\n",
      "Trying URL: https://nationalanthems.info/mp3/GS.mp3\n",
      "Failed with status code 404 for URL https://nationalanthems.info/mp3/GS.mp3\n",
      "Trying URL: https://nationalanthems.info/audio/gs.mp3\n",
      "Failed with status code 404 for URL https://nationalanthems.info/audio/gs.mp3\n",
      "Trying URL: https://nationalanthems.info/sounds/gs.mp3\n",
      "Failed with status code 404 for URL https://nationalanthems.info/sounds/gs.mp3\n",
      "All URL patterns failed for gs\n"
     ]
    },
    {
     "name": "stderr",
     "output_type": "stream",
     "text": [
      "Downloading anthems:  95%|█████████▌| 95/100 [15:17<00:58, 11.67s/it]"
     ]
    },
    {
     "name": "stdout",
     "output_type": "stream",
     "text": [
      "Trying URL: https://nationalanthems.info/gt.mp3\n",
      "Found content: audio/mpeg, Size: 1569008 bytes\n",
      "Successfully downloaded anthem for gt\n"
     ]
    },
    {
     "name": "stderr",
     "output_type": "stream",
     "text": [
      "Downloading anthems:  96%|█████████▌| 96/100 [15:27<00:44, 11.10s/it]"
     ]
    },
    {
     "name": "stdout",
     "output_type": "stream",
     "text": [
      "Trying URL: https://nationalanthems.info/gu.mp3\n",
      "Found content: audio/mpeg, Size: 760492 bytes\n",
      "Successfully downloaded anthem for gu\n"
     ]
    },
    {
     "name": "stderr",
     "output_type": "stream",
     "text": [
      "Downloading anthems:  97%|█████████▋| 97/100 [15:34<00:30, 10.07s/it]"
     ]
    },
    {
     "name": "stdout",
     "output_type": "stream",
     "text": [
      "Trying URL: https://nationalanthems.info/gw.mp3\n",
      "Found content: audio/mpeg, Size: 972370 bytes\n",
      "Successfully downloaded anthem for gw\n"
     ]
    },
    {
     "name": "stderr",
     "output_type": "stream",
     "text": [
      "Downloading anthems:  98%|█████████▊| 98/100 [15:41<00:18,  9.07s/it]"
     ]
    },
    {
     "name": "stdout",
     "output_type": "stream",
     "text": [
      "Trying URL: https://nationalanthems.info/gy.mp3\n",
      "Found content: audio/mpeg, Size: 854359 bytes\n",
      "Successfully downloaded anthem for gy\n"
     ]
    },
    {
     "name": "stderr",
     "output_type": "stream",
     "text": [
      "Downloading anthems:  99%|█████████▉| 99/100 [15:48<00:08,  8.37s/it]"
     ]
    },
    {
     "name": "stdout",
     "output_type": "stream",
     "text": [
      "Trying URL: https://nationalanthems.info/hk.mp3\n",
      "Failed with status code 404 for URL https://nationalanthems.info/hk.mp3\n",
      "Trying URL: https://nationalanthems.info/mp3/hk.mp3\n",
      "Failed with status code 404 for URL https://nationalanthems.info/mp3/hk.mp3\n",
      "Trying URL: https://nationalanthems.info/mp3/HK.mp3\n",
      "Failed with status code 404 for URL https://nationalanthems.info/mp3/HK.mp3\n",
      "Trying URL: https://nationalanthems.info/audio/hk.mp3\n",
      "Failed with status code 404 for URL https://nationalanthems.info/audio/hk.mp3\n",
      "Trying URL: https://nationalanthems.info/sounds/hk.mp3\n",
      "Failed with status code 404 for URL https://nationalanthems.info/sounds/hk.mp3\n",
      "All URL patterns failed for hk\n"
     ]
    },
    {
     "name": "stderr",
     "output_type": "stream",
     "text": [
      "Downloading anthems: 100%|██████████| 100/100 [16:01<00:00,  9.61s/it]"
     ]
    },
    {
     "name": "stdout",
     "output_type": "stream",
     "text": [
      "\n",
      "Download completed: 72 successful, 28 failed\n",
      "MP3 files saved to c:\\Users\\UJWAL\\Desktop\\VS Codes\\Python Codes\\MMDP2_Project_1\\Task_3\\national_anthems_mp3\n",
      "See anthem_download_log.txt for details\n"
     ]
    },
    {
     "name": "stderr",
     "output_type": "stream",
     "text": [
      "\n"
     ]
    }
   ],
   "source": [
    "import os\n",
    "import requests\n",
    "import time\n",
    "from tqdm import tqdm\n",
    "\n",
    "def download_anthem_mp3(country_code, output_dir):\n",
    "    \"\"\"\n",
    "    Download the MP3 file for a country's national anthem\n",
    "    \n",
    "    Args:\n",
    "        country_code (str): Two-letter country code (e.g., 'in' for India)\n",
    "        output_dir (str): Directory to save the MP3 files\n",
    "        \n",
    "    Returns:\n",
    "        bool: True if download successful, False otherwise\n",
    "    \"\"\"\n",
    "    # Add browser-like headers to avoid 406 errors\n",
    "    headers = {\n",
    "        'User-Agent': 'Mozilla/5.0 (Windows NT 10.0; Win64; x64) AppleWebKit/537.36 (KHTML, like Gecko) Chrome/91.0.4472.124 Safari/537.36',\n",
    "        'Accept': '*/*',  # Accept any content type\n",
    "        'Accept-Language': 'en-US,en;q=0.9',\n",
    "        'Referer': f'https://nationalanthems.info/{country_code}.htm',\n",
    "        'Connection': 'keep-alive'\n",
    "    }\n",
    "    \n",
    "    # Try different possible URL patterns\n",
    "    url_patterns = [\n",
    "        f\"https://nationalanthems.info/{country_code}.mp3\",                  # Standard pattern\n",
    "        f\"https://nationalanthems.info/mp3/{country_code}.mp3\",              # In mp3 subfolder\n",
    "        f\"https://nationalanthems.info/mp3/{country_code.upper()}.mp3\",      # Uppercase in mp3 subfolder\n",
    "        f\"https://nationalanthems.info/audio/{country_code}.mp3\",            # In audio subfolder\n",
    "        f\"https://nationalanthems.info/sounds/{country_code}.mp3\"            # In sounds subfolder\n",
    "    ]\n",
    "    \n",
    "    for url in url_patterns:\n",
    "        try:\n",
    "            print(f\"Trying URL: {url}\")\n",
    "            response = requests.get(url, headers=headers, stream=True, timeout=10)\n",
    "            \n",
    "            # Check if the request was successful\n",
    "            if response.status_code == 200:\n",
    "                content_type = response.headers.get('Content-Type', '')\n",
    "                content_length = int(response.headers.get('Content-Length', 0))\n",
    "                \n",
    "                print(f\"Found content: {content_type}, Size: {content_length} bytes\")\n",
    "                \n",
    "                # Check if the content is actually an MP3 file\n",
    "                if ('audio' in content_type or 'octet-stream' in content_type or \n",
    "                    content_length > 10000):  # MP3 files are typically larger than 10KB\n",
    "                    \n",
    "                    output_path = os.path.join(output_dir, f\"{country_code}.mp3\")\n",
    "                    with open(output_path, 'wb') as f:\n",
    "                        for chunk in response.iter_content(chunk_size=8192):\n",
    "                            if chunk:\n",
    "                                f.write(chunk)\n",
    "                    \n",
    "                    print(f\"Successfully downloaded anthem for {country_code}\")\n",
    "                    return True\n",
    "                else:\n",
    "                    print(f\"Response doesn't appear to be a valid MP3 for {country_code}\")\n",
    "            else:\n",
    "                print(f\"Failed with status code {response.status_code} for URL {url}\")\n",
    "                \n",
    "        except Exception as e:\n",
    "            print(f\"Error trying {url}: {str(e)}\")\n",
    "    \n",
    "    print(f\"All URL patterns failed for {country_code}\")\n",
    "    return False\n",
    "\n",
    "def main():\n",
    "    # Directory with SVG files\n",
    "    svg_directory = \"Countries_flags_images\"  # Change this to your directory\n",
    "    \n",
    "    # Directory to save MP3 files\n",
    "    mp3_directory = \"national_anthems_mp3\"\n",
    "    \n",
    "    # Create output directory if it doesn't exist\n",
    "    if not os.path.exists(mp3_directory):\n",
    "        os.makedirs(mp3_directory)\n",
    "    \n",
    "    # Get country codes from SVG files\n",
    "    svg_files = [f for f in os.listdir(svg_directory) if f.endswith('.svg')]\n",
    "    country_codes = [f.split('.')[0] for f in svg_files]\n",
    "    \n",
    "    print(f\"Found {len(country_codes)} country codes from SVG files\")\n",
    "    \n",
    "    # Create a log file for success/failure - explicitly use UTF-8 encoding\n",
    "    with open(\"anthem_download_log.txt\", 'w', encoding='utf-8') as log:\n",
    "        log.write(f\"Download started at {time.strftime('%Y-%m-%d %H:%M:%S')}\\n\")\n",
    "        log.write(f\"Attempting to download {len(country_codes)} national anthem MP3 files\\n\\n\")\n",
    "    \n",
    "    # Download anthems one by one\n",
    "    successful = 0\n",
    "    failed = 0\n",
    "    \n",
    "    for country_code in tqdm(country_codes, desc=\"Downloading anthems\"):\n",
    "        if download_anthem_mp3(country_code, mp3_directory):\n",
    "            successful += 1\n",
    "            with open(\"anthem_download_log.txt\", 'a', encoding='utf-8') as log:\n",
    "                log.write(f\"SUCCESS: {country_code}: Download successful\\n\")\n",
    "        else:\n",
    "            failed += 1\n",
    "            with open(\"anthem_download_log.txt\", 'a', encoding='utf-8') as log:\n",
    "                log.write(f\"FAILED: {country_code}: Download failed\\n\")\n",
    "        \n",
    "        # Add a small delay between downloads\n",
    "        time.sleep(2)\n",
    "    \n",
    "    # Write summary to log\n",
    "    with open(\"anthem_download_log.txt\", 'a', encoding='utf-8') as log:\n",
    "        log.write(f\"\\nDownload completed at {time.strftime('%Y-%m-%d %H:%M:%S')}\\n\")\n",
    "        log.write(f\"Summary: {successful} successful, {failed} failed out of {len(country_codes)} attempts\\n\")\n",
    "    \n",
    "    print(f\"\\nDownload completed: {successful} successful, {failed} failed\")\n",
    "    print(f\"MP3 files saved to {os.path.abspath(mp3_directory)}\")\n",
    "    print(f\"See anthem_download_log.txt for details\")\n",
    "\n",
    "if __name__ == \"__main__\":\n",
    "    main()"
   ]
  },
  {
   "cell_type": "code",
   "execution_count": null,
   "metadata": {},
   "outputs": [
    {
     "name": "stderr",
     "output_type": "stream",
     "text": [
      "Checking country pages: 100%|██████████| 26/26 [01:21<00:00,  3.12s/it]\n",
      "Downloading anthems:  16%|█▌        | 3/19 [00:31<02:45, 10.33s/it]\n"
     ]
    },
    {
     "ename": "KeyboardInterrupt",
     "evalue": "",
     "output_type": "error",
     "traceback": [
      "\u001b[31m---------------------------------------------------------------------------\u001b[39m",
      "\u001b[31mKeyboardInterrupt\u001b[39m                         Traceback (most recent call last)",
      "\u001b[36mCell\u001b[39m\u001b[36m \u001b[39m\u001b[32mIn[9]\u001b[39m\u001b[32m, line 123\u001b[39m\n\u001b[32m    120\u001b[39m     \u001b[38;5;28mprint\u001b[39m(\u001b[33mf\u001b[39m\u001b[33m\"\u001b[39m\u001b[33mSee additional_anthem_download_log.txt for details\u001b[39m\u001b[33m\"\u001b[39m)\n\u001b[32m    122\u001b[39m \u001b[38;5;28;01mif\u001b[39;00m \u001b[34m__name__\u001b[39m == \u001b[33m\"\u001b[39m\u001b[33m__main__\u001b[39m\u001b[33m\"\u001b[39m:\n\u001b[32m--> \u001b[39m\u001b[32m123\u001b[39m     \u001b[43mmain\u001b[49m\u001b[43m(\u001b[49m\u001b[43m)\u001b[49m\n",
      "\u001b[36mCell\u001b[39m\u001b[36m \u001b[39m\u001b[32mIn[9]\u001b[39m\u001b[32m, line 104\u001b[39m, in \u001b[36mmain\u001b[39m\u001b[34m()\u001b[39m\n\u001b[32m    101\u001b[39m successful, failed = \u001b[32m0\u001b[39m, \u001b[32m0\u001b[39m\n\u001b[32m    103\u001b[39m \u001b[38;5;28;01mfor\u001b[39;00m country_code \u001b[38;5;129;01min\u001b[39;00m tqdm(valid_countries, desc=\u001b[33m\"\u001b[39m\u001b[33mDownloading anthems\u001b[39m\u001b[33m\"\u001b[39m):\n\u001b[32m--> \u001b[39m\u001b[32m104\u001b[39m     \u001b[38;5;28;01mif\u001b[39;00m \u001b[43mdownload_anthem_mp3\u001b[49m\u001b[43m(\u001b[49m\u001b[43mcountry_code\u001b[49m\u001b[43m,\u001b[49m\u001b[43m \u001b[49m\u001b[43mmp3_directory\u001b[49m\u001b[43m)\u001b[49m:\n\u001b[32m    105\u001b[39m         successful += \u001b[32m1\u001b[39m\n\u001b[32m    106\u001b[39m         \u001b[38;5;28;01mwith\u001b[39;00m \u001b[38;5;28mopen\u001b[39m(\u001b[33m\"\u001b[39m\u001b[33madditional_anthem_download_log.txt\u001b[39m\u001b[33m\"\u001b[39m, \u001b[33m'\u001b[39m\u001b[33ma\u001b[39m\u001b[33m'\u001b[39m, encoding=\u001b[33m'\u001b[39m\u001b[33mutf-8\u001b[39m\u001b[33m'\u001b[39m) \u001b[38;5;28;01mas\u001b[39;00m log:\n",
      "\u001b[36mCell\u001b[39m\u001b[36m \u001b[39m\u001b[32mIn[9]\u001b[39m\u001b[32m, line 51\u001b[39m, in \u001b[36mdownload_anthem_mp3\u001b[39m\u001b[34m(country_code, output_dir)\u001b[39m\n\u001b[32m     49\u001b[39m output_path = os.path.join(output_dir, \u001b[33mf\u001b[39m\u001b[33m\"\u001b[39m\u001b[38;5;132;01m{\u001b[39;00mcountry_code\u001b[38;5;132;01m}\u001b[39;00m\u001b[33m.mp3\u001b[39m\u001b[33m\"\u001b[39m)\n\u001b[32m     50\u001b[39m \u001b[38;5;28;01mwith\u001b[39;00m \u001b[38;5;28mopen\u001b[39m(output_path, \u001b[33m'\u001b[39m\u001b[33mwb\u001b[39m\u001b[33m'\u001b[39m) \u001b[38;5;28;01mas\u001b[39;00m f:\n\u001b[32m---> \u001b[39m\u001b[32m51\u001b[39m \u001b[43m    \u001b[49m\u001b[38;5;28;43;01mfor\u001b[39;49;00m\u001b[43m \u001b[49m\u001b[43mchunk\u001b[49m\u001b[43m \u001b[49m\u001b[38;5;129;43;01min\u001b[39;49;00m\u001b[43m \u001b[49m\u001b[43mresponse\u001b[49m\u001b[43m.\u001b[49m\u001b[43miter_content\u001b[49m\u001b[43m(\u001b[49m\u001b[43mchunk_size\u001b[49m\u001b[43m=\u001b[49m\u001b[32;43m8192\u001b[39;49m\u001b[43m)\u001b[49m\u001b[43m:\u001b[49m\n\u001b[32m     52\u001b[39m \u001b[43m        \u001b[49m\u001b[38;5;28;43;01mif\u001b[39;49;00m\u001b[43m \u001b[49m\u001b[43mchunk\u001b[49m\u001b[43m:\u001b[49m\n\u001b[32m     53\u001b[39m \u001b[43m            \u001b[49m\u001b[43mf\u001b[49m\u001b[43m.\u001b[49m\u001b[43mwrite\u001b[49m\u001b[43m(\u001b[49m\u001b[43mchunk\u001b[49m\u001b[43m)\u001b[49m\n",
      "\u001b[36mFile \u001b[39m\u001b[32m~\\AppData\\Roaming\\Python\\Python313\\site-packages\\requests\\models.py:820\u001b[39m, in \u001b[36mResponse.iter_content.<locals>.generate\u001b[39m\u001b[34m()\u001b[39m\n\u001b[32m    818\u001b[39m \u001b[38;5;28;01mif\u001b[39;00m \u001b[38;5;28mhasattr\u001b[39m(\u001b[38;5;28mself\u001b[39m.raw, \u001b[33m\"\u001b[39m\u001b[33mstream\u001b[39m\u001b[33m\"\u001b[39m):\n\u001b[32m    819\u001b[39m     \u001b[38;5;28;01mtry\u001b[39;00m:\n\u001b[32m--> \u001b[39m\u001b[32m820\u001b[39m         \u001b[38;5;28;01myield from\u001b[39;00m \u001b[38;5;28mself\u001b[39m.raw.stream(chunk_size, decode_content=\u001b[38;5;28;01mTrue\u001b[39;00m)\n\u001b[32m    821\u001b[39m     \u001b[38;5;28;01mexcept\u001b[39;00m ProtocolError \u001b[38;5;28;01mas\u001b[39;00m e:\n\u001b[32m    822\u001b[39m         \u001b[38;5;28;01mraise\u001b[39;00m ChunkedEncodingError(e)\n",
      "\u001b[36mFile \u001b[39m\u001b[32m~\\AppData\\Roaming\\Python\\Python313\\site-packages\\urllib3\\response.py:1066\u001b[39m, in \u001b[36mHTTPResponse.stream\u001b[39m\u001b[34m(self, amt, decode_content)\u001b[39m\n\u001b[32m   1064\u001b[39m \u001b[38;5;28;01melse\u001b[39;00m:\n\u001b[32m   1065\u001b[39m     \u001b[38;5;28;01mwhile\u001b[39;00m \u001b[38;5;129;01mnot\u001b[39;00m is_fp_closed(\u001b[38;5;28mself\u001b[39m._fp) \u001b[38;5;129;01mor\u001b[39;00m \u001b[38;5;28mlen\u001b[39m(\u001b[38;5;28mself\u001b[39m._decoded_buffer) > \u001b[32m0\u001b[39m:\n\u001b[32m-> \u001b[39m\u001b[32m1066\u001b[39m         data = \u001b[38;5;28;43mself\u001b[39;49m\u001b[43m.\u001b[49m\u001b[43mread\u001b[49m\u001b[43m(\u001b[49m\u001b[43mamt\u001b[49m\u001b[43m=\u001b[49m\u001b[43mamt\u001b[49m\u001b[43m,\u001b[49m\u001b[43m \u001b[49m\u001b[43mdecode_content\u001b[49m\u001b[43m=\u001b[49m\u001b[43mdecode_content\u001b[49m\u001b[43m)\u001b[49m\n\u001b[32m   1068\u001b[39m         \u001b[38;5;28;01mif\u001b[39;00m data:\n\u001b[32m   1069\u001b[39m             \u001b[38;5;28;01myield\u001b[39;00m data\n",
      "\u001b[36mFile \u001b[39m\u001b[32m~\\AppData\\Roaming\\Python\\Python313\\site-packages\\urllib3\\response.py:955\u001b[39m, in \u001b[36mHTTPResponse.read\u001b[39m\u001b[34m(self, amt, decode_content, cache_content)\u001b[39m\n\u001b[32m    952\u001b[39m     \u001b[38;5;28;01mif\u001b[39;00m \u001b[38;5;28mlen\u001b[39m(\u001b[38;5;28mself\u001b[39m._decoded_buffer) >= amt:\n\u001b[32m    953\u001b[39m         \u001b[38;5;28;01mreturn\u001b[39;00m \u001b[38;5;28mself\u001b[39m._decoded_buffer.get(amt)\n\u001b[32m--> \u001b[39m\u001b[32m955\u001b[39m data = \u001b[38;5;28;43mself\u001b[39;49m\u001b[43m.\u001b[49m\u001b[43m_raw_read\u001b[49m\u001b[43m(\u001b[49m\u001b[43mamt\u001b[49m\u001b[43m)\u001b[49m\n\u001b[32m    957\u001b[39m flush_decoder = amt \u001b[38;5;129;01mis\u001b[39;00m \u001b[38;5;28;01mNone\u001b[39;00m \u001b[38;5;129;01mor\u001b[39;00m (amt != \u001b[32m0\u001b[39m \u001b[38;5;129;01mand\u001b[39;00m \u001b[38;5;129;01mnot\u001b[39;00m data)\n\u001b[32m    959\u001b[39m \u001b[38;5;28;01mif\u001b[39;00m \u001b[38;5;129;01mnot\u001b[39;00m data \u001b[38;5;129;01mand\u001b[39;00m \u001b[38;5;28mlen\u001b[39m(\u001b[38;5;28mself\u001b[39m._decoded_buffer) == \u001b[32m0\u001b[39m:\n",
      "\u001b[36mFile \u001b[39m\u001b[32m~\\AppData\\Roaming\\Python\\Python313\\site-packages\\urllib3\\response.py:879\u001b[39m, in \u001b[36mHTTPResponse._raw_read\u001b[39m\u001b[34m(self, amt, read1)\u001b[39m\n\u001b[32m    876\u001b[39m fp_closed = \u001b[38;5;28mgetattr\u001b[39m(\u001b[38;5;28mself\u001b[39m._fp, \u001b[33m\"\u001b[39m\u001b[33mclosed\u001b[39m\u001b[33m\"\u001b[39m, \u001b[38;5;28;01mFalse\u001b[39;00m)\n\u001b[32m    878\u001b[39m \u001b[38;5;28;01mwith\u001b[39;00m \u001b[38;5;28mself\u001b[39m._error_catcher():\n\u001b[32m--> \u001b[39m\u001b[32m879\u001b[39m     data = \u001b[38;5;28;43mself\u001b[39;49m\u001b[43m.\u001b[49m\u001b[43m_fp_read\u001b[49m\u001b[43m(\u001b[49m\u001b[43mamt\u001b[49m\u001b[43m,\u001b[49m\u001b[43m \u001b[49m\u001b[43mread1\u001b[49m\u001b[43m=\u001b[49m\u001b[43mread1\u001b[49m\u001b[43m)\u001b[49m \u001b[38;5;28;01mif\u001b[39;00m \u001b[38;5;129;01mnot\u001b[39;00m fp_closed \u001b[38;5;28;01melse\u001b[39;00m \u001b[33mb\u001b[39m\u001b[33m\"\u001b[39m\u001b[33m\"\u001b[39m\n\u001b[32m    880\u001b[39m     \u001b[38;5;28;01mif\u001b[39;00m amt \u001b[38;5;129;01mis\u001b[39;00m \u001b[38;5;129;01mnot\u001b[39;00m \u001b[38;5;28;01mNone\u001b[39;00m \u001b[38;5;129;01mand\u001b[39;00m amt != \u001b[32m0\u001b[39m \u001b[38;5;129;01mand\u001b[39;00m \u001b[38;5;129;01mnot\u001b[39;00m data:\n\u001b[32m    881\u001b[39m         \u001b[38;5;66;03m# Platform-specific: Buggy versions of Python.\u001b[39;00m\n\u001b[32m    882\u001b[39m         \u001b[38;5;66;03m# Close the connection when no data is returned\u001b[39;00m\n\u001b[32m   (...)\u001b[39m\u001b[32m    887\u001b[39m         \u001b[38;5;66;03m# not properly close the connection in all cases. There is\u001b[39;00m\n\u001b[32m    888\u001b[39m         \u001b[38;5;66;03m# no harm in redundantly calling close.\u001b[39;00m\n\u001b[32m    889\u001b[39m         \u001b[38;5;28mself\u001b[39m._fp.close()\n",
      "\u001b[36mFile \u001b[39m\u001b[32m~\\AppData\\Roaming\\Python\\Python313\\site-packages\\urllib3\\response.py:862\u001b[39m, in \u001b[36mHTTPResponse._fp_read\u001b[39m\u001b[34m(self, amt, read1)\u001b[39m\n\u001b[32m    859\u001b[39m     \u001b[38;5;28;01mreturn\u001b[39;00m \u001b[38;5;28mself\u001b[39m._fp.read1(amt) \u001b[38;5;28;01mif\u001b[39;00m amt \u001b[38;5;129;01mis\u001b[39;00m \u001b[38;5;129;01mnot\u001b[39;00m \u001b[38;5;28;01mNone\u001b[39;00m \u001b[38;5;28;01melse\u001b[39;00m \u001b[38;5;28mself\u001b[39m._fp.read1()\n\u001b[32m    860\u001b[39m \u001b[38;5;28;01melse\u001b[39;00m:\n\u001b[32m    861\u001b[39m     \u001b[38;5;66;03m# StringIO doesn't like amt=None\u001b[39;00m\n\u001b[32m--> \u001b[39m\u001b[32m862\u001b[39m     \u001b[38;5;28;01mreturn\u001b[39;00m \u001b[38;5;28;43mself\u001b[39;49m\u001b[43m.\u001b[49m\u001b[43m_fp\u001b[49m\u001b[43m.\u001b[49m\u001b[43mread\u001b[49m\u001b[43m(\u001b[49m\u001b[43mamt\u001b[49m\u001b[43m)\u001b[49m \u001b[38;5;28;01mif\u001b[39;00m amt \u001b[38;5;129;01mis\u001b[39;00m \u001b[38;5;129;01mnot\u001b[39;00m \u001b[38;5;28;01mNone\u001b[39;00m \u001b[38;5;28;01melse\u001b[39;00m \u001b[38;5;28mself\u001b[39m._fp.read()\n",
      "\u001b[36mFile \u001b[39m\u001b[32mc:\\Program Files\\Python313\\Lib\\http\\client.py:479\u001b[39m, in \u001b[36mHTTPResponse.read\u001b[39m\u001b[34m(self, amt)\u001b[39m\n\u001b[32m    476\u001b[39m \u001b[38;5;28;01mif\u001b[39;00m \u001b[38;5;28mself\u001b[39m.length \u001b[38;5;129;01mis\u001b[39;00m \u001b[38;5;129;01mnot\u001b[39;00m \u001b[38;5;28;01mNone\u001b[39;00m \u001b[38;5;129;01mand\u001b[39;00m amt > \u001b[38;5;28mself\u001b[39m.length:\n\u001b[32m    477\u001b[39m     \u001b[38;5;66;03m# clip the read to the \"end of response\"\u001b[39;00m\n\u001b[32m    478\u001b[39m     amt = \u001b[38;5;28mself\u001b[39m.length\n\u001b[32m--> \u001b[39m\u001b[32m479\u001b[39m s = \u001b[38;5;28;43mself\u001b[39;49m\u001b[43m.\u001b[49m\u001b[43mfp\u001b[49m\u001b[43m.\u001b[49m\u001b[43mread\u001b[49m\u001b[43m(\u001b[49m\u001b[43mamt\u001b[49m\u001b[43m)\u001b[49m\n\u001b[32m    480\u001b[39m \u001b[38;5;28;01mif\u001b[39;00m \u001b[38;5;129;01mnot\u001b[39;00m s \u001b[38;5;129;01mand\u001b[39;00m amt:\n\u001b[32m    481\u001b[39m     \u001b[38;5;66;03m# Ideally, we would raise IncompleteRead if the content-length\u001b[39;00m\n\u001b[32m    482\u001b[39m     \u001b[38;5;66;03m# wasn't satisfied, but it might break compatibility.\u001b[39;00m\n\u001b[32m    483\u001b[39m     \u001b[38;5;28mself\u001b[39m._close_conn()\n",
      "\u001b[36mFile \u001b[39m\u001b[32mc:\\Program Files\\Python313\\Lib\\socket.py:719\u001b[39m, in \u001b[36mSocketIO.readinto\u001b[39m\u001b[34m(self, b)\u001b[39m\n\u001b[32m    717\u001b[39m     \u001b[38;5;28;01mraise\u001b[39;00m \u001b[38;5;167;01mOSError\u001b[39;00m(\u001b[33m\"\u001b[39m\u001b[33mcannot read from timed out object\u001b[39m\u001b[33m\"\u001b[39m)\n\u001b[32m    718\u001b[39m \u001b[38;5;28;01mtry\u001b[39;00m:\n\u001b[32m--> \u001b[39m\u001b[32m719\u001b[39m     \u001b[38;5;28;01mreturn\u001b[39;00m \u001b[38;5;28;43mself\u001b[39;49m\u001b[43m.\u001b[49m\u001b[43m_sock\u001b[49m\u001b[43m.\u001b[49m\u001b[43mrecv_into\u001b[49m\u001b[43m(\u001b[49m\u001b[43mb\u001b[49m\u001b[43m)\u001b[49m\n\u001b[32m    720\u001b[39m \u001b[38;5;28;01mexcept\u001b[39;00m timeout:\n\u001b[32m    721\u001b[39m     \u001b[38;5;28mself\u001b[39m._timeout_occurred = \u001b[38;5;28;01mTrue\u001b[39;00m\n",
      "\u001b[36mFile \u001b[39m\u001b[32mc:\\Program Files\\Python313\\Lib\\ssl.py:1304\u001b[39m, in \u001b[36mSSLSocket.recv_into\u001b[39m\u001b[34m(self, buffer, nbytes, flags)\u001b[39m\n\u001b[32m   1300\u001b[39m     \u001b[38;5;28;01mif\u001b[39;00m flags != \u001b[32m0\u001b[39m:\n\u001b[32m   1301\u001b[39m         \u001b[38;5;28;01mraise\u001b[39;00m \u001b[38;5;167;01mValueError\u001b[39;00m(\n\u001b[32m   1302\u001b[39m           \u001b[33m\"\u001b[39m\u001b[33mnon-zero flags not allowed in calls to recv_into() on \u001b[39m\u001b[38;5;132;01m%s\u001b[39;00m\u001b[33m\"\u001b[39m %\n\u001b[32m   1303\u001b[39m           \u001b[38;5;28mself\u001b[39m.\u001b[34m__class__\u001b[39m)\n\u001b[32m-> \u001b[39m\u001b[32m1304\u001b[39m     \u001b[38;5;28;01mreturn\u001b[39;00m \u001b[38;5;28;43mself\u001b[39;49m\u001b[43m.\u001b[49m\u001b[43mread\u001b[49m\u001b[43m(\u001b[49m\u001b[43mnbytes\u001b[49m\u001b[43m,\u001b[49m\u001b[43m \u001b[49m\u001b[43mbuffer\u001b[49m\u001b[43m)\u001b[49m\n\u001b[32m   1305\u001b[39m \u001b[38;5;28;01melse\u001b[39;00m:\n\u001b[32m   1306\u001b[39m     \u001b[38;5;28;01mreturn\u001b[39;00m \u001b[38;5;28msuper\u001b[39m().recv_into(buffer, nbytes, flags)\n",
      "\u001b[36mFile \u001b[39m\u001b[32mc:\\Program Files\\Python313\\Lib\\ssl.py:1138\u001b[39m, in \u001b[36mSSLSocket.read\u001b[39m\u001b[34m(self, len, buffer)\u001b[39m\n\u001b[32m   1136\u001b[39m \u001b[38;5;28;01mtry\u001b[39;00m:\n\u001b[32m   1137\u001b[39m     \u001b[38;5;28;01mif\u001b[39;00m buffer \u001b[38;5;129;01mis\u001b[39;00m \u001b[38;5;129;01mnot\u001b[39;00m \u001b[38;5;28;01mNone\u001b[39;00m:\n\u001b[32m-> \u001b[39m\u001b[32m1138\u001b[39m         \u001b[38;5;28;01mreturn\u001b[39;00m \u001b[38;5;28;43mself\u001b[39;49m\u001b[43m.\u001b[49m\u001b[43m_sslobj\u001b[49m\u001b[43m.\u001b[49m\u001b[43mread\u001b[49m\u001b[43m(\u001b[49m\u001b[38;5;28;43mlen\u001b[39;49m\u001b[43m,\u001b[49m\u001b[43m \u001b[49m\u001b[43mbuffer\u001b[49m\u001b[43m)\u001b[49m\n\u001b[32m   1139\u001b[39m     \u001b[38;5;28;01melse\u001b[39;00m:\n\u001b[32m   1140\u001b[39m         \u001b[38;5;28;01mreturn\u001b[39;00m \u001b[38;5;28mself\u001b[39m._sslobj.read(\u001b[38;5;28mlen\u001b[39m)\n",
      "\u001b[31mKeyboardInterrupt\u001b[39m: "
     ]
    }
   ],
   "source": [
    "import os\n",
    "import requests\n",
    "import time\n",
    "from tqdm import tqdm\n",
    "\n",
    "def get_existing_country_codes(directory):\n",
    "    \"\"\"Get list of country codes from existing SVG files\"\"\"\n",
    "    if not os.path.exists(directory):\n",
    "        return []\n",
    "    return [f.split('.')[0] for f in os.listdir(directory) if f.endswith('.svg')]\n",
    "\n",
    "def download_anthem_mp3(country_code, output_dir):\n",
    "    \"\"\"\n",
    "    Download the MP3 file for a country's national anthem\n",
    "    \n",
    "    Args:\n",
    "        country_code (str): Two-letter country code (e.g., 'in' for India)\n",
    "        output_dir (str): Directory to save the MP3 files\n",
    "        \n",
    "    Returns:\n",
    "        bool: True if download successful, False otherwise\n",
    "    \"\"\"\n",
    "    headers = {\n",
    "        'User-Agent': 'Mozilla/5.0 (Windows NT 10.0; Win64; x64) AppleWebKit/537.36 (KHTML, like Gecko) Chrome/91.0.4472.124 Safari/537.36',\n",
    "        'Accept': '*/*',\n",
    "        'Accept-Language': 'en-US,en;q=0.9',\n",
    "        'Referer': f'https://nationalanthems.info/{country_code}.htm',\n",
    "        'Connection': 'keep-alive'\n",
    "    }\n",
    "    \n",
    "    url_patterns = [\n",
    "        f\"https://nationalanthems.info/{country_code}.mp3\",\n",
    "        f\"https://nationalanthems.info/mp3/{country_code}.mp3\",\n",
    "        f\"https://nationalanthems.info/mp3/{country_code.upper()}.mp3\",\n",
    "        f\"https://nationalanthems.info/audio/{country_code}.mp3\",\n",
    "        f\"https://nationalanthems.info/sounds/{country_code}.mp3\",\n",
    "        f\"https://nationalanthems.info/{country_code}/{country_code}.mp3\"\n",
    "    ]\n",
    "    \n",
    "    for url in url_patterns:\n",
    "        try:\n",
    "            response = requests.get(url, headers=headers, stream=True, timeout=10)\n",
    "            \n",
    "            if response.status_code == 200:\n",
    "                content_type = response.headers.get('Content-Type', '')\n",
    "                content_length = int(response.headers.get('Content-Length', 0))\n",
    "                \n",
    "                if ('audio' in content_type or 'octet-stream' in content_type or content_length > 10000):\n",
    "                    output_path = os.path.join(output_dir, f\"{country_code}.mp3\")\n",
    "                    with open(output_path, 'wb') as f:\n",
    "                        for chunk in response.iter_content(chunk_size=8192):\n",
    "                            if chunk:\n",
    "                                f.write(chunk)\n",
    "                    return True\n",
    "        except Exception:\n",
    "            pass\n",
    "    \n",
    "    return False\n",
    "\n",
    "def check_country_exists(country_code):\n",
    "    \"\"\"Check if the country page exists on the website\"\"\"\n",
    "    headers = {\n",
    "        'User-Agent': 'Mozilla/5.0 (Windows NT 10.0; Win64; x64) AppleWebKit/537.36 (KHTML, like Gecko) Chrome/91.0.4472.124 Safari/537.36',\n",
    "    }\n",
    "    url = f\"https://nationalanthems.info/{country_code}.htm\"\n",
    "    try:\n",
    "        response = requests.head(url, headers=headers, timeout=5)\n",
    "        return response.status_code == 200\n",
    "    except:\n",
    "        return False\n",
    "\n",
    "def main():\n",
    "    svg_directory = \"Countries_flags_images\"\n",
    "    mp3_directory = \"national_anthems_mp3\"\n",
    "    \n",
    "    if not os.path.exists(mp3_directory):\n",
    "        os.makedirs(mp3_directory)\n",
    "    \n",
    "    existing_codes = get_existing_country_codes(svg_directory)\n",
    "    \n",
    "    increasing_country_codes = ['ma', 'mb', 'mc', 'md']\n",
    "\n",
    "    \n",
    "    increasing_country_codes = [code for code in increasing_country_codes if code not in existing_codes]\n",
    "    \n",
    "    with open(\"additional_anthem_download_log.txt\", 'w', encoding='utf-8') as log:\n",
    "        log.write(f\"Download started at {time.strftime('%Y-%m-%d %H:%M:%S')}\\n\")\n",
    "        log.write(f\"Attempting to download additional national anthem MP3 files\\n\\n\")\n",
    "    \n",
    "    valid_countries = []\n",
    "    for code in tqdm(increasing_country_codes, desc=\"Checking country pages\"):\n",
    "        if check_country_exists(code):\n",
    "            valid_countries.append(code)\n",
    "            with open(\"additional_anthem_download_log.txt\", 'a', encoding='utf-8') as log:\n",
    "                log.write(f\"FOUND: Country page exists for '{code}'\\n\")\n",
    "        time.sleep(1)\n",
    "    \n",
    "    successful, failed = 0, 0\n",
    "    \n",
    "    for country_code in tqdm(valid_countries, desc=\"Downloading anthems\"):\n",
    "        if download_anthem_mp3(country_code, mp3_directory):\n",
    "            successful += 1\n",
    "            with open(\"additional_anthem_download_log.txt\", 'a', encoding='utf-8') as log:\n",
    "                log.write(f\"SUCCESS: {country_code}: Download successful\\n\")\n",
    "        else:\n",
    "            failed += 1\n",
    "            with open(\"additional_anthem_download_log.txt\", 'a', encoding='utf-8') as log:\n",
    "                log.write(f\"FAILED: {country_code}: Download failed\\n\")\n",
    "        time.sleep(2)\n",
    "    \n",
    "    with open(\"additional_anthem_download_log.txt\", 'a', encoding='utf-8') as log:\n",
    "        log.write(f\"\\nDownload completed at {time.strftime('%Y-%m-%d %H:%M:%S')}\\n\")\n",
    "        log.write(f\"Summary: {successful} successful, {failed} failed out of {len(valid_countries)} attempts\\n\")\n",
    "    \n",
    "    print(f\"\\nDownload completed: {successful} successful, {failed} failed\")\n",
    "    print(f\"MP3 files saved to {os.path.abspath(mp3_directory)}\")\n",
    "    print(f\"See additional_anthem_download_log.txt for details\")\n",
    "\n",
    "if __name__ == \"__main__\":\n",
    "    main()"
   ]
  },
  {
   "cell_type": "code",
   "execution_count": 1,
   "metadata": {},
   "outputs": [
    {
     "name": "stdout",
     "output_type": "stream",
     "text": [
      "Lyrics saved for ad → anthem_lyrics_txt\\ad.txt\n",
      "Lyrics saved for ae → anthem_lyrics_txt\\ae.txt\n",
      "Lyrics saved for af → anthem_lyrics_txt\\af.txt\n",
      "Lyrics saved for ag → anthem_lyrics_txt\\ag.txt\n",
      "Lyrics saved for ai → anthem_lyrics_txt\\ai.txt\n",
      "Lyrics saved for al → anthem_lyrics_txt\\al.txt\n",
      "Lyrics saved for am → anthem_lyrics_txt\\am.txt\n",
      "Lyrics saved for ao → anthem_lyrics_txt\\ao.txt\n",
      "Lyrics saved for ar → anthem_lyrics_txt\\ar.txt\n",
      "Lyrics saved for as → anthem_lyrics_txt\\as.txt\n",
      "Lyrics saved for at → anthem_lyrics_txt\\at.txt\n",
      "Lyrics saved for au → anthem_lyrics_txt\\au.txt\n",
      "Lyrics saved for aw → anthem_lyrics_txt\\aw.txt\n",
      "Lyrics saved for ax → anthem_lyrics_txt\\ax.txt\n",
      "Lyrics saved for az → anthem_lyrics_txt\\az.txt\n",
      "Lyrics saved for ba → anthem_lyrics_txt\\ba.txt\n",
      "Lyrics saved for bb → anthem_lyrics_txt\\bb.txt\n",
      "Lyrics saved for bd → anthem_lyrics_txt\\bd.txt\n",
      "Lyrics saved for be → anthem_lyrics_txt\\be.txt\n",
      "Lyrics saved for bf → anthem_lyrics_txt\\bf.txt\n",
      "Lyrics saved for bg → anthem_lyrics_txt\\bg.txt\n",
      "Lyrics saved for bh → anthem_lyrics_txt\\bh.txt\n",
      "Lyrics saved for bi → anthem_lyrics_txt\\bi.txt\n",
      "Lyrics saved for bj → anthem_lyrics_txt\\bj.txt\n",
      "Lyrics saved for bl → anthem_lyrics_txt\\bl.txt\n",
      "Lyrics saved for bm → anthem_lyrics_txt\\bm.txt\n",
      "Lyrics saved for bn → anthem_lyrics_txt\\bn.txt\n",
      "Lyrics saved for bo → anthem_lyrics_txt\\bo.txt\n",
      "Lyrics saved for br → anthem_lyrics_txt\\br.txt\n",
      "Lyrics saved for bs → anthem_lyrics_txt\\bs.txt\n",
      "Lyrics saved for bw → anthem_lyrics_txt\\bw.txt\n",
      "Lyrics saved for by → anthem_lyrics_txt\\by.txt\n",
      "Lyrics saved for bz → anthem_lyrics_txt\\bz.txt\n",
      "Lyrics saved for ca → anthem_lyrics_txt\\ca.txt\n",
      "Lyrics saved for cd → anthem_lyrics_txt\\cd.txt\n",
      "Lyrics saved for cf → anthem_lyrics_txt\\cf.txt\n",
      "Lyrics saved for cz → anthem_lyrics_txt\\cz.txt\n",
      "Lyrics saved for de → anthem_lyrics_txt\\de.txt\n",
      "Lyrics saved for dj → anthem_lyrics_txt\\dj.txt\n",
      "Lyrics saved for dk → anthem_lyrics_txt\\dk.txt\n",
      "Lyrics saved for dm → anthem_lyrics_txt\\dm.txt\n",
      "Lyrics saved for do → anthem_lyrics_txt\\do.txt\n",
      "Lyrics saved for dz → anthem_lyrics_txt\\dz.txt\n",
      "Lyrics saved for ec → anthem_lyrics_txt\\ec.txt\n",
      "Lyrics saved for ee → anthem_lyrics_txt\\ee.txt\n",
      "Lyrics saved for eg → anthem_lyrics_txt\\eg.txt\n",
      "Lyrics saved for eh → anthem_lyrics_txt\\eh.txt\n",
      "Lyrics saved for er → anthem_lyrics_txt\\er.txt\n",
      "Lyrics saved for es → anthem_lyrics_txt\\es.txt\n",
      "Lyrics saved for et → anthem_lyrics_txt\\et.txt\n",
      "No Wikipedia page found for eu\n",
      "Lyrics saved for fi → anthem_lyrics_txt\\fi.txt\n",
      "Lyrics saved for fj → anthem_lyrics_txt\\fj.txt\n",
      "Lyrics saved for fk → anthem_lyrics_txt\\fk.txt\n",
      "Lyrics saved for fm → anthem_lyrics_txt\\fm.txt\n",
      "Lyrics saved for fo → anthem_lyrics_txt\\fo.txt\n",
      "Lyrics saved for fr → anthem_lyrics_txt\\fr.txt\n",
      "Lyrics saved for ga → anthem_lyrics_txt\\ga.txt\n",
      "Lyrics saved for gb → anthem_lyrics_txt\\gb.txt\n",
      "Lyrics saved for gd → anthem_lyrics_txt\\gd.txt\n",
      "Lyrics saved for ge → anthem_lyrics_txt\\ge.txt\n",
      "Lyrics saved for gg → anthem_lyrics_txt\\gg.txt\n",
      "Lyrics saved for gh → anthem_lyrics_txt\\gh.txt\n",
      "Lyrics saved for gi → anthem_lyrics_txt\\gi.txt\n",
      "Lyrics saved for gl → anthem_lyrics_txt\\gl.txt\n",
      "Lyrics saved for gm → anthem_lyrics_txt\\gm.txt\n",
      "Lyrics saved for gn → anthem_lyrics_txt\\gn.txt\n",
      "Lyrics saved for gq → anthem_lyrics_txt\\gq.txt\n",
      "Lyrics saved for gr → anthem_lyrics_txt\\gr.txt\n",
      "Lyrics saved for gt → anthem_lyrics_txt\\gt.txt\n",
      "Lyrics saved for gu → anthem_lyrics_txt\\gu.txt\n",
      "Lyrics saved for gw → anthem_lyrics_txt\\gw.txt\n",
      "Lyrics saved for gy → anthem_lyrics_txt\\gy.txt\n",
      "Lyrics saved for id → anthem_lyrics_txt\\id.txt\n",
      "Lyrics saved for ie → anthem_lyrics_txt\\ie.txt\n",
      "Lyrics saved for il → anthem_lyrics_txt\\il.txt\n",
      "Lyrics saved for im → anthem_lyrics_txt\\im.txt\n",
      "Lyrics saved for in → anthem_lyrics_txt\\in.txt\n",
      "Lyrics saved for iq → anthem_lyrics_txt\\iq.txt\n",
      "Lyrics saved for ir → anthem_lyrics_txt\\ir.txt\n",
      "Lyrics saved for is → anthem_lyrics_txt\\is.txt\n",
      "Lyrics saved for it → anthem_lyrics_txt\\it.txt\n",
      "Lyrics saved for je → anthem_lyrics_txt\\je.txt\n",
      "Lyrics saved for jm → anthem_lyrics_txt\\jm.txt\n",
      "Lyrics saved for jo → anthem_lyrics_txt\\jo.txt\n",
      "Lyrics saved for jp → anthem_lyrics_txt\\jp.txt\n",
      "Lyrics saved for ke → anthem_lyrics_txt\\ke.txt\n",
      "Lyrics saved for kg → anthem_lyrics_txt\\kg.txt\n",
      "Lyrics saved for kh → anthem_lyrics_txt\\kh.txt\n",
      "Lyrics saved for ki → anthem_lyrics_txt\\ki.txt\n",
      "Lyrics saved for km → anthem_lyrics_txt\\km.txt\n",
      "Lyrics saved for kn → anthem_lyrics_txt\\kn.txt\n",
      "Lyrics saved for kp → anthem_lyrics_txt\\kp.txt\n",
      "Lyrics saved for kr → anthem_lyrics_txt\\kr.txt\n",
      "Lyrics saved for kw → anthem_lyrics_txt\\kw.txt\n",
      "Lyrics saved for ky → anthem_lyrics_txt\\ky.txt\n",
      "Lyrics saved for kz → anthem_lyrics_txt\\kz.txt\n",
      "Lyrics saved for ma → anthem_lyrics_txt\\ma.txt\n",
      "Lyrics saved for mc → anthem_lyrics_txt\\mc.txt\n",
      "Lyrics saved for md → anthem_lyrics_txt\\md.txt\n",
      "\n",
      "✅ National anthem lyrics extraction completed!\n"
     ]
    }
   ],
   "source": [
    "import os\n",
    "import time\n",
    "import requests\n",
    "from bs4 import BeautifulSoup\n",
    "from selenium import webdriver\n",
    "from selenium.webdriver.common.by import By\n",
    "from selenium.webdriver.chrome.service import Service\n",
    "from webdriver_manager.chrome import ChromeDriverManager\n",
    "\n",
    "# Folders\n",
    "MP3_FOLDER = \"national_anthems_mp3\"  # Folder containing MP3 files\n",
    "OUTPUT_FOLDER = \"anthem_lyrics_txt\"   # Folder to save lyrics\n",
    "os.makedirs(OUTPUT_FOLDER, exist_ok=True)\n",
    "\n",
    "# Function to extract country codes from MP3 filenames\n",
    "def get_country_codes_from_mp3(directory):\n",
    "    \"\"\"Extract country codes from MP3 filenames.\"\"\"\n",
    "    if not os.path.exists(directory):\n",
    "        return []\n",
    "    return [f.split('.')[0] for f in os.listdir(directory) if f.endswith('.mp3')]\n",
    "\n",
    "# Function to search Wikipedia for the national anthem page\n",
    "def get_wikipedia_url(country_code):\n",
    "    \"\"\"Searches Wikipedia for the national anthem page of the given country code.\"\"\"\n",
    "    search_url = f\"https://en.wikipedia.org/w/index.php?search={country_code}+national+anthem\"\n",
    "    response = requests.get(search_url)\n",
    "    if response.status_code != 200:\n",
    "        return None\n",
    "    \n",
    "    soup = BeautifulSoup(response.content, 'html.parser')\n",
    "    first_result = soup.find(\"li\", class_=\"mw-search-result\")\n",
    "    if first_result:\n",
    "        link = first_result.find(\"a\")[\"href\"]\n",
    "        return f\"https://en.wikipedia.org{link}\"\n",
    "    return None\n",
    "\n",
    "# Function to extract anthem lyrics using Selenium\n",
    "def get_anthem_lyrics(wiki_url):\n",
    "    \"\"\"Scrapes national anthem lyrics using Selenium.\"\"\"\n",
    "    options = webdriver.ChromeOptions()\n",
    "    options.add_argument(\"--headless\")\n",
    "    driver = webdriver.Chrome(service=Service(ChromeDriverManager().install()), options=options)\n",
    "    \n",
    "    driver.get(wiki_url)\n",
    "    time.sleep(2)  # Let the page load\n",
    "    \n",
    "    lyrics_text = \"Lyrics not found\"\n",
    "    \n",
    "    try:\n",
    "        # Find the English lyrics section (may be inside a div or under <h2> \"Lyrics\")\n",
    "        soup = BeautifulSoup(driver.page_source, 'html.parser')\n",
    "        lyrics_div = soup.find(lambda tag: tag.name == \"div\" and \"English lyrics\" in tag.text)\n",
    "        \n",
    "        if not lyrics_div:\n",
    "            lyrics_div = soup.find(lambda tag: tag.name == \"h2\" and \"Lyrics\" in tag.text)\n",
    "        \n",
    "        if lyrics_div:\n",
    "            lyrics_text = []\n",
    "            next_element = lyrics_div.find_next_sibling()\n",
    "            while next_element and next_element.name not in ['h2', 'h3']:\n",
    "                if next_element.name in ['p', 'div']:\n",
    "                    lyrics_text.append(next_element.get_text(strip=True))\n",
    "                next_element = next_element.find_next_sibling()\n",
    "            \n",
    "            lyrics_text = \"\\n\\n\".join(lyrics_text) if lyrics_text else \"Lyrics not found\"\n",
    "    \n",
    "    except Exception as e:\n",
    "        print(f\"Error extracting lyrics: {e}\")\n",
    "    \n",
    "    driver.quit()\n",
    "    return lyrics_text\n",
    "\n",
    "# Main script execution\n",
    "country_codes = get_country_codes_from_mp3(MP3_FOLDER)\n",
    "\n",
    "for code in country_codes:\n",
    "    wiki_url = get_wikipedia_url(code)\n",
    "    if wiki_url:\n",
    "        lyrics = get_anthem_lyrics(wiki_url)\n",
    "        file_path = os.path.join(OUTPUT_FOLDER, f\"{code}.txt\")\n",
    "        \n",
    "        with open(file_path, \"w\", encoding=\"utf-8\") as f:\n",
    "            f.write(lyrics)\n",
    "        \n",
    "        print(f\"Lyrics saved for {code} → {file_path}\")\n",
    "    else:\n",
    "        print(f\"No Wikipedia page found for {code}\")\n",
    "\n",
    "print(\"\\n✅ National anthem lyrics extraction completed!\")\n"
   ]
  }
 ],
 "metadata": {
  "kernelspec": {
   "display_name": "Python 3",
   "language": "python",
   "name": "python3"
  },
  "language_info": {
   "codemirror_mode": {
    "name": "ipython",
    "version": 3
   },
   "file_extension": ".py",
   "mimetype": "text/x-python",
   "name": "python",
   "nbconvert_exporter": "python",
   "pygments_lexer": "ipython3",
   "version": "3.13.2"
  }
 },
 "nbformat": 4,
 "nbformat_minor": 2
}
